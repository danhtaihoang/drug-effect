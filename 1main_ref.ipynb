{
 "cells": [
  {
   "cell_type": "markdown",
   "metadata": {},
   "source": [
    "## Expectation Reflection for Breast Cancer Diagnosis\n",
    "In this work, we apply our method, Expectation Reflection (ER), to predict Breast Cancer. We compare the performance of ER with other existing methods such as Logistic Regression, Naive Bayes, Dicision Tree, Random Forest."
   ]
  },
  {
   "cell_type": "code",
   "execution_count": 1,
   "metadata": {},
   "outputs": [],
   "source": [
    "import numpy as np\n",
    "import pandas as pd\n",
    "\n",
    "from sklearn.model_selection import train_test_split\n",
    "from sklearn.model_selection import KFold\n",
    "from sklearn.metrics import accuracy_score\n",
    "\n",
    "import expectation_reflection as ER\n",
    "\n",
    "import matplotlib.pyplot as plt\n",
    "%matplotlib inline"
   ]
  },
  {
   "cell_type": "code",
   "execution_count": 2,
   "metadata": {},
   "outputs": [],
   "source": [
    "np.random.seed(1)"
   ]
  },
  {
   "cell_type": "code",
   "execution_count": 3,
   "metadata": {
    "scrolled": true
   },
   "outputs": [
    {
     "data": {
      "text/html": [
       "<div>\n",
       "<style scoped>\n",
       "    .dataframe tbody tr th:only-of-type {\n",
       "        vertical-align: middle;\n",
       "    }\n",
       "\n",
       "    .dataframe tbody tr th {\n",
       "        vertical-align: top;\n",
       "    }\n",
       "\n",
       "    .dataframe thead th {\n",
       "        text-align: right;\n",
       "    }\n",
       "</style>\n",
       "<table border=\"1\" class=\"dataframe\">\n",
       "  <thead>\n",
       "    <tr style=\"text-align: right;\">\n",
       "      <th></th>\n",
       "      <th>id</th>\n",
       "      <th>diagnosis</th>\n",
       "      <th>radius_mean</th>\n",
       "      <th>texture_mean</th>\n",
       "      <th>perimeter_mean</th>\n",
       "      <th>area_mean</th>\n",
       "      <th>smoothness_mean</th>\n",
       "      <th>compactness_mean</th>\n",
       "      <th>concavity_mean</th>\n",
       "      <th>concave points_mean</th>\n",
       "      <th>...</th>\n",
       "      <th>radius_worst</th>\n",
       "      <th>texture_worst</th>\n",
       "      <th>perimeter_worst</th>\n",
       "      <th>area_worst</th>\n",
       "      <th>smoothness_worst</th>\n",
       "      <th>compactness_worst</th>\n",
       "      <th>concavity_worst</th>\n",
       "      <th>concave points_worst</th>\n",
       "      <th>symmetry_worst</th>\n",
       "      <th>fractal_dimension_worst</th>\n",
       "    </tr>\n",
       "  </thead>\n",
       "  <tbody>\n",
       "    <tr>\n",
       "      <th>0</th>\n",
       "      <td>842302</td>\n",
       "      <td>M</td>\n",
       "      <td>17.99</td>\n",
       "      <td>10.38</td>\n",
       "      <td>122.80</td>\n",
       "      <td>1001.0</td>\n",
       "      <td>0.11840</td>\n",
       "      <td>0.27760</td>\n",
       "      <td>0.3001</td>\n",
       "      <td>0.14710</td>\n",
       "      <td>...</td>\n",
       "      <td>25.38</td>\n",
       "      <td>17.33</td>\n",
       "      <td>184.60</td>\n",
       "      <td>2019.0</td>\n",
       "      <td>0.1622</td>\n",
       "      <td>0.6656</td>\n",
       "      <td>0.7119</td>\n",
       "      <td>0.2654</td>\n",
       "      <td>0.4601</td>\n",
       "      <td>0.11890</td>\n",
       "    </tr>\n",
       "    <tr>\n",
       "      <th>1</th>\n",
       "      <td>842517</td>\n",
       "      <td>M</td>\n",
       "      <td>20.57</td>\n",
       "      <td>17.77</td>\n",
       "      <td>132.90</td>\n",
       "      <td>1326.0</td>\n",
       "      <td>0.08474</td>\n",
       "      <td>0.07864</td>\n",
       "      <td>0.0869</td>\n",
       "      <td>0.07017</td>\n",
       "      <td>...</td>\n",
       "      <td>24.99</td>\n",
       "      <td>23.41</td>\n",
       "      <td>158.80</td>\n",
       "      <td>1956.0</td>\n",
       "      <td>0.1238</td>\n",
       "      <td>0.1866</td>\n",
       "      <td>0.2416</td>\n",
       "      <td>0.1860</td>\n",
       "      <td>0.2750</td>\n",
       "      <td>0.08902</td>\n",
       "    </tr>\n",
       "    <tr>\n",
       "      <th>2</th>\n",
       "      <td>84300903</td>\n",
       "      <td>M</td>\n",
       "      <td>19.69</td>\n",
       "      <td>21.25</td>\n",
       "      <td>130.00</td>\n",
       "      <td>1203.0</td>\n",
       "      <td>0.10960</td>\n",
       "      <td>0.15990</td>\n",
       "      <td>0.1974</td>\n",
       "      <td>0.12790</td>\n",
       "      <td>...</td>\n",
       "      <td>23.57</td>\n",
       "      <td>25.53</td>\n",
       "      <td>152.50</td>\n",
       "      <td>1709.0</td>\n",
       "      <td>0.1444</td>\n",
       "      <td>0.4245</td>\n",
       "      <td>0.4504</td>\n",
       "      <td>0.2430</td>\n",
       "      <td>0.3613</td>\n",
       "      <td>0.08758</td>\n",
       "    </tr>\n",
       "    <tr>\n",
       "      <th>3</th>\n",
       "      <td>84348301</td>\n",
       "      <td>M</td>\n",
       "      <td>11.42</td>\n",
       "      <td>20.38</td>\n",
       "      <td>77.58</td>\n",
       "      <td>386.1</td>\n",
       "      <td>0.14250</td>\n",
       "      <td>0.28390</td>\n",
       "      <td>0.2414</td>\n",
       "      <td>0.10520</td>\n",
       "      <td>...</td>\n",
       "      <td>14.91</td>\n",
       "      <td>26.50</td>\n",
       "      <td>98.87</td>\n",
       "      <td>567.7</td>\n",
       "      <td>0.2098</td>\n",
       "      <td>0.8663</td>\n",
       "      <td>0.6869</td>\n",
       "      <td>0.2575</td>\n",
       "      <td>0.6638</td>\n",
       "      <td>0.17300</td>\n",
       "    </tr>\n",
       "    <tr>\n",
       "      <th>4</th>\n",
       "      <td>84358402</td>\n",
       "      <td>M</td>\n",
       "      <td>20.29</td>\n",
       "      <td>14.34</td>\n",
       "      <td>135.10</td>\n",
       "      <td>1297.0</td>\n",
       "      <td>0.10030</td>\n",
       "      <td>0.13280</td>\n",
       "      <td>0.1980</td>\n",
       "      <td>0.10430</td>\n",
       "      <td>...</td>\n",
       "      <td>22.54</td>\n",
       "      <td>16.67</td>\n",
       "      <td>152.20</td>\n",
       "      <td>1575.0</td>\n",
       "      <td>0.1374</td>\n",
       "      <td>0.2050</td>\n",
       "      <td>0.4000</td>\n",
       "      <td>0.1625</td>\n",
       "      <td>0.2364</td>\n",
       "      <td>0.07678</td>\n",
       "    </tr>\n",
       "  </tbody>\n",
       "</table>\n",
       "<p>5 rows × 32 columns</p>\n",
       "</div>"
      ],
      "text/plain": [
       "         id diagnosis  radius_mean  texture_mean  perimeter_mean  area_mean  \\\n",
       "0    842302         M        17.99         10.38          122.80     1001.0   \n",
       "1    842517         M        20.57         17.77          132.90     1326.0   \n",
       "2  84300903         M        19.69         21.25          130.00     1203.0   \n",
       "3  84348301         M        11.42         20.38           77.58      386.1   \n",
       "4  84358402         M        20.29         14.34          135.10     1297.0   \n",
       "\n",
       "   smoothness_mean  compactness_mean  concavity_mean  concave points_mean  \\\n",
       "0          0.11840           0.27760          0.3001              0.14710   \n",
       "1          0.08474           0.07864          0.0869              0.07017   \n",
       "2          0.10960           0.15990          0.1974              0.12790   \n",
       "3          0.14250           0.28390          0.2414              0.10520   \n",
       "4          0.10030           0.13280          0.1980              0.10430   \n",
       "\n",
       "   ...  radius_worst  texture_worst  perimeter_worst  area_worst  \\\n",
       "0  ...         25.38          17.33           184.60      2019.0   \n",
       "1  ...         24.99          23.41           158.80      1956.0   \n",
       "2  ...         23.57          25.53           152.50      1709.0   \n",
       "3  ...         14.91          26.50            98.87       567.7   \n",
       "4  ...         22.54          16.67           152.20      1575.0   \n",
       "\n",
       "   smoothness_worst  compactness_worst  concavity_worst  concave points_worst  \\\n",
       "0            0.1622             0.6656           0.7119                0.2654   \n",
       "1            0.1238             0.1866           0.2416                0.1860   \n",
       "2            0.1444             0.4245           0.4504                0.2430   \n",
       "3            0.2098             0.8663           0.6869                0.2575   \n",
       "4            0.1374             0.2050           0.4000                0.1625   \n",
       "\n",
       "   symmetry_worst  fractal_dimension_worst  \n",
       "0          0.4601                  0.11890  \n",
       "1          0.2750                  0.08902  \n",
       "2          0.3613                  0.08758  \n",
       "3          0.6638                  0.17300  \n",
       "4          0.2364                  0.07678  \n",
       "\n",
       "[5 rows x 32 columns]"
      ]
     },
     "execution_count": 3,
     "metadata": {},
     "output_type": "execute_result"
    }
   ],
   "source": [
    "# load data\n",
    "df = pd.read_csv('../input_data/breast_cancer_data.txt',sep= ',')\n",
    "df.head()"
   ]
  },
  {
   "cell_type": "markdown",
   "metadata": {},
   "source": [
    "We will drop out the first column `id` and move the target `diagnosis` to the last column, just for convenience."
   ]
  },
  {
   "cell_type": "code",
   "execution_count": 4,
   "metadata": {},
   "outputs": [],
   "source": [
    "df = df.drop('id', axis=1) # remove id column\n",
    "df1 = df.pop('diagnosis') # remove column diagnosis and store it in df1\n",
    "df['diagnosis'] = df1 # add df1 to df as a 'new' column"
   ]
  },
  {
   "cell_type": "code",
   "execution_count": 5,
   "metadata": {},
   "outputs": [],
   "source": [
    "# convert B to -1, M to 1:\n",
    "df.diagnosis = [0 if t == \"B\" else 1 for t in df.diagnosis]"
   ]
  },
  {
   "cell_type": "code",
   "execution_count": 6,
   "metadata": {
    "scrolled": true
   },
   "outputs": [
    {
     "name": "stdout",
     "output_type": "stream",
     "text": [
      "(569, 30)\n"
     ]
    }
   ],
   "source": [
    "# select features and target:\n",
    "ds = np.array(df).astype(float)\n",
    "\n",
    "# features:\n",
    "X = ds[:,:-1]\n",
    "l,n = X.shape\n",
    "print(l,n)\n",
    "\n",
    "# target:\n",
    "y = ds[:,-1]\n",
    "# convert 1,0 to 1,-1:\n",
    "y = 2*y - 1"
   ]
  },
  {
   "cell_type": "markdown",
   "metadata": {},
   "source": [
    "### Shuffle data"
   ]
  },
  {
   "cell_type": "code",
   "execution_count": 7,
   "metadata": {},
   "outputs": [],
   "source": [
    "from sklearn.utils import shuffle\n",
    "X, y = shuffle(X, y)"
   ]
  },
  {
   "cell_type": "code",
   "execution_count": 8,
   "metadata": {},
   "outputs": [],
   "source": [
    "#from sklearn.preprocessing import StandardScaler\n",
    "#X = StandardScaler().fit_transform(X)\n",
    "\n",
    "from sklearn.preprocessing import MinMaxScaler\n",
    "X = MinMaxScaler().fit_transform(X)"
   ]
  },
  {
   "cell_type": "code",
   "execution_count": 9,
   "metadata": {},
   "outputs": [],
   "source": [
    "kf = 5"
   ]
  },
  {
   "cell_type": "markdown",
   "metadata": {},
   "source": [
    "### Prediction with Expectation Reflection"
   ]
  },
  {
   "cell_type": "code",
   "execution_count": 10,
   "metadata": {},
   "outputs": [],
   "source": [
    "def ER_inference(X,y,kf=5,regu=0.005):    \n",
    "    #x_train,x_test,y_train,y_test = train_test_split(X1,y,test_size=0.3,random_state = 100)    \n",
    "    kfold = KFold(n_splits=kf,shuffle=False,random_state=1)\n",
    "    accuracy = np.zeros(kf)\n",
    "    \n",
    "    for i,(train_index,test_index) in enumerate(kfold.split(y)):\n",
    "        X_train, X_test = X[train_index], X[test_index]\n",
    "        y_train, y_test = y[train_index], y[test_index]\n",
    "\n",
    "        # predict with ER\n",
    "        h0,w = ER.fit(X_train,y_train,niter_max=100,regu=0.005)\n",
    "        y_pred = ER.predict(X_test,h0,w)\n",
    "        accuracy[i] = accuracy_score(y_test,y_pred)\n",
    "        #print(accuracy[i])\n",
    "    return accuracy.mean(),accuracy.std()"
   ]
  },
  {
   "cell_type": "code",
   "execution_count": 11,
   "metadata": {
    "scrolled": true
   },
   "outputs": [
    {
     "name": "stdout",
     "output_type": "stream",
     "text": [
      "('ER:', 0.9701443875174662, 0.008903135490243306, 0.0)\n",
      "('ER:', 0.9701443875174662, 0.008903135490243306, 0.001)\n",
      "('ER:', 0.9701443875174662, 0.008903135490243306, 0.002)\n",
      "('ER:', 0.9701443875174662, 0.008903135490243306, 0.003)\n",
      "('ER:', 0.9701443875174662, 0.008903135490243306, 0.004)\n",
      "('ER:', 0.9701443875174662, 0.008903135490243306, 0.005)\n",
      "('ER:', 0.9701443875174662, 0.008903135490243306, 0.01)\n",
      "('ER:', 0.9701443875174662, 0.008903135490243306, 0.02)\n",
      "('ER:', 0.9701443875174662, 0.008903135490243306, 0.1)\n",
      "('ER:', 0.9701443875174662, 0.008903135490243306, 0.2)\n",
      "('ER:', 0.9701443875174662, 0.008903135490243306, 0.5)\n",
      "('ER:', 0.9701443875174662, 0.008903135490243306, 0.6)\n",
      "('ER:', 0.9701443875174662, 0.008903135490243306, 0.8)\n",
      "('ER:', 0.9701443875174662, 0.008903135490243306, 1.0)\n"
     ]
    }
   ],
   "source": [
    "regu_list = [0.0,0.001,0.002,0.003,0.004,0.005,0.01,0.02,0.1,0.2,0.5,0.6,0.8,1.]\n",
    "for regu in regu_list:\n",
    "    accuracy_mean,accuracy_std = ER_inference(X,y,kf,regu)\n",
    "    print('ER:',accuracy_mean,accuracy_std,regu)"
   ]
  },
  {
   "cell_type": "markdown",
   "metadata": {},
   "source": [
    "### Compare with other existing machine learning algorithms"
   ]
  },
  {
   "cell_type": "code",
   "execution_count": 12,
   "metadata": {},
   "outputs": [],
   "source": [
    "from sklearn.linear_model import LogisticRegression\n",
    "from sklearn.naive_bayes import GaussianNB\n",
    "from sklearn.tree import DecisionTreeClassifier\n",
    "from sklearn.ensemble import RandomForestClassifier\n",
    "\n",
    "def ML_inference(X,y,kf=5,method='naive_bayes'):     \n",
    "    kfold = KFold(n_splits=kf,shuffle=False,random_state=1)            \n",
    "    accuracy = np.zeros(kf)\n",
    "            \n",
    "    if method == 'logistic_regression':\n",
    "        model = LogisticRegression(solver='liblinear')\n",
    "\n",
    "    if method == 'naive_bayes': \n",
    "        model = GaussianNB()\n",
    "        \n",
    "    if method == 'random_forest':\n",
    "        model = RandomForestClassifier(criterion = \"gini\", random_state = 1,\n",
    "                               max_depth=3, min_samples_leaf=5,n_estimators=100)        \n",
    "    if method == 'decision_tree':\n",
    "        model = DecisionTreeClassifier()  \n",
    "        \n",
    "    for i,(train_index,test_index) in enumerate(kfold.split(y)):\n",
    "        X_train, X_test = X[train_index], X[test_index]\n",
    "        y_train, y_test = y[train_index], y[test_index]\n",
    "\n",
    "        # fit and predict\n",
    "        model.fit(X_train, y_train)\n",
    "        y_pred = model.predict(X_test)\n",
    "        \n",
    "        accuracy[i] = accuracy_score(y_test,y_pred)\n",
    "        #print(accuracy[i])\n",
    "    return accuracy.mean(),accuracy.std()"
   ]
  },
  {
   "cell_type": "code",
   "execution_count": 13,
   "metadata": {},
   "outputs": [
    {
     "name": "stdout",
     "output_type": "stream",
     "text": [
      "('         naive_bayes :', 0.9297624592454587, 0.02472309453344037)\n",
      "(' logistic_regression :', 0.9595714951094549, 0.008977387313188354)\n",
      "('       decision_tree :', 0.9385188635305077, 0.029830901065864925)\n",
      "('       random_forest :', 0.9473218444340941, 0.019941925467578978)\n"
     ]
    }
   ],
   "source": [
    "other_methods=['naive_bayes','logistic_regression','decision_tree','random_forest']\n",
    "\n",
    "for i,method in enumerate(other_methods):\n",
    "    accuracy_mean,accuracy_std = ML_inference(X,y,kf,method)\n",
    "    print('% 20s :'%method,accuracy_mean,accuracy_std)"
   ]
  },
  {
   "cell_type": "markdown",
   "metadata": {},
   "source": [
    "## Small sample sizes"
   ]
  },
  {
   "cell_type": "code",
   "execution_count": 14,
   "metadata": {},
   "outputs": [
    {
     "name": "stdout",
     "output_type": "stream",
     "text": [
      "('ER:', 0.97, 0.06000000000000001, 0.0)\n",
      "('ER:', 0.97, 0.06000000000000001, 0.001)\n",
      "('ER:', 0.97, 0.06000000000000001, 0.002)\n",
      "('ER:', 0.97, 0.06000000000000001, 0.003)\n",
      "('ER:', 0.97, 0.06000000000000001, 0.004)\n",
      "('ER:', 0.97, 0.06000000000000001, 0.005)\n",
      "('ER:', 0.97, 0.06000000000000001, 0.01)\n",
      "('ER:', 0.97, 0.06000000000000001, 0.02)\n",
      "('ER:', 0.97, 0.06000000000000001, 0.1)\n",
      "('ER:', 0.97, 0.06000000000000001, 0.2)\n",
      "('ER:', 0.97, 0.06000000000000001, 0.5)\n",
      "('ER:', 0.97, 0.06000000000000001, 0.6)\n",
      "('ER:', 0.97, 0.06000000000000001, 0.8)\n",
      "('ER:', 0.97, 0.06000000000000001, 1.0)\n"
     ]
    }
   ],
   "source": [
    "l = 100\n",
    "for regu in regu_list:\n",
    "    accuracy_mean,accuracy_std = ER_inference(X[:l,:],y[:l],kf,regu)\n",
    "    print('ER:',accuracy_mean,accuracy_std,regu)"
   ]
  },
  {
   "cell_type": "code",
   "execution_count": 15,
   "metadata": {},
   "outputs": [
    {
     "name": "stdout",
     "output_type": "stream",
     "text": [
      "('         naive_bayes :', 0.93, 0.060000000000000005)\n",
      "(' logistic_regression :', 0.93, 0.05099019513592784)\n",
      "('       decision_tree :', 0.85, 0.08944271909999157)\n",
      "('       random_forest :', 0.93, 0.05099019513592784)\n"
     ]
    }
   ],
   "source": [
    "for i,method in enumerate(other_methods):\n",
    "    accuracy_mean,accuracy_std = ML_inference(X[:l,:],y[:l],kf,method)\n",
    "    print('% 20s :'%method,accuracy_mean,accuracy_std)"
   ]
  },
  {
   "cell_type": "code",
   "execution_count": 16,
   "metadata": {},
   "outputs": [
    {
     "name": "stdout",
     "output_type": "stream",
     "text": [
      "('ER:', 0.9399999999999998, 0.07999999999999999, 0.0)\n",
      "('ER:', 0.9399999999999998, 0.07999999999999999, 0.001)\n",
      "('ER:', 0.9399999999999998, 0.07999999999999999, 0.002)\n",
      "('ER:', 0.9399999999999998, 0.07999999999999999, 0.003)\n",
      "('ER:', 0.9399999999999998, 0.07999999999999999, 0.004)\n",
      "('ER:', 0.9399999999999998, 0.07999999999999999, 0.005)\n",
      "('ER:', 0.9399999999999998, 0.07999999999999999, 0.01)\n",
      "('ER:', 0.9399999999999998, 0.07999999999999999, 0.02)\n",
      "('ER:', 0.9399999999999998, 0.07999999999999999, 0.1)\n",
      "('ER:', 0.9399999999999998, 0.07999999999999999, 0.2)\n",
      "('ER:', 0.9399999999999998, 0.07999999999999999, 0.5)\n",
      "('ER:', 0.9399999999999998, 0.07999999999999999, 0.6)\n",
      "('ER:', 0.9399999999999998, 0.07999999999999999, 0.8)\n",
      "('ER:', 0.9399999999999998, 0.07999999999999999, 1.0)\n"
     ]
    }
   ],
   "source": [
    "l = 50\n",
    "for regu in regu_list:\n",
    "    accuracy_mean,accuracy_std = ER_inference(X[:l,:],y[:l],kf,regu)\n",
    "    print('ER:',accuracy_mean,accuracy_std,regu)"
   ]
  },
  {
   "cell_type": "code",
   "execution_count": 17,
   "metadata": {},
   "outputs": [
    {
     "name": "stdout",
     "output_type": "stream",
     "text": [
      "('         naive_bayes :', 0.9399999999999998, 0.07999999999999999)\n",
      "(' logistic_regression :', 0.9, 0.06324555320336757)\n",
      "('       decision_tree :', 0.9199999999999999, 0.039999999999999994)\n",
      "('       random_forest :', 0.9399999999999998, 0.07999999999999999)\n"
     ]
    }
   ],
   "source": [
    "for i,method in enumerate(other_methods):\n",
    "    accuracy_mean,accuracy_std = ML_inference(X[:l,:],y[:l],kf,method)\n",
    "    print('% 20s :'%method,accuracy_mean,accuracy_std)"
   ]
  },
  {
   "cell_type": "code",
   "execution_count": null,
   "metadata": {},
   "outputs": [],
   "source": []
  }
 ],
 "metadata": {
  "kernelspec": {
   "display_name": "Python 2",
   "language": "python",
   "name": "python2"
  },
  "language_info": {
   "codemirror_mode": {
    "name": "ipython",
    "version": 2
   },
   "file_extension": ".py",
   "mimetype": "text/x-python",
   "name": "python",
   "nbconvert_exporter": "python",
   "pygments_lexer": "ipython2",
   "version": "2.7.16"
  }
 },
 "nbformat": 4,
 "nbformat_minor": 2
}
