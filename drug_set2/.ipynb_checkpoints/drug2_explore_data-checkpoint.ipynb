{
 "cells": [
  {
   "cell_type": "markdown",
   "metadata": {},
   "source": [
    "## Data Exploration"
   ]
  },
  {
   "cell_type": "code",
   "execution_count": 1,
   "metadata": {},
   "outputs": [],
   "source": [
    "import numpy as np\n",
    "import pandas as pd\n",
    "\n",
    "import seaborn as sns\n",
    "import matplotlib.pyplot as plt\n",
    "%matplotlib inline"
   ]
  },
  {
   "cell_type": "code",
   "execution_count": 2,
   "metadata": {},
   "outputs": [],
   "source": [
    "np.random.seed(1)"
   ]
  },
  {
   "cell_type": "code",
   "execution_count": 7,
   "metadata": {
    "scrolled": true
   },
   "outputs": [
    {
     "data": {
      "text/html": [
       "<div>\n",
       "<style scoped>\n",
       "    .dataframe tbody tr th:only-of-type {\n",
       "        vertical-align: middle;\n",
       "    }\n",
       "\n",
       "    .dataframe tbody tr th {\n",
       "        vertical-align: top;\n",
       "    }\n",
       "\n",
       "    .dataframe thead th {\n",
       "        text-align: right;\n",
       "    }\n",
       "</style>\n",
       "<table border=\"1\" class=\"dataframe\">\n",
       "  <thead>\n",
       "    <tr style=\"text-align: right;\">\n",
       "      <th></th>\n",
       "      <th>Name</th>\n",
       "      <th>Line</th>\n",
       "      <th>Treatment</th>\n",
       "      <th>Concentration</th>\n",
       "      <th>Day</th>\n",
       "      <th>boutd</th>\n",
       "      <th>sleepd</th>\n",
       "      <th>boutn</th>\n",
       "      <th>sleepn</th>\n",
       "      <th>wakeact</th>\n",
       "      <th>sleeplat</th>\n",
       "      <th>Sex</th>\n",
       "    </tr>\n",
       "  </thead>\n",
       "  <tbody>\n",
       "    <tr>\n",
       "      <th>0</th>\n",
       "      <td>51_1_900</td>\n",
       "      <td>900</td>\n",
       "      <td>Chlorpromazine_Sonazine_</td>\n",
       "      <td>1</td>\n",
       "      <td>1</td>\n",
       "      <td>17</td>\n",
       "      <td>162</td>\n",
       "      <td>13</td>\n",
       "      <td>495</td>\n",
       "      <td>2.14559</td>\n",
       "      <td>73.0</td>\n",
       "      <td>Female</td>\n",
       "    </tr>\n",
       "    <tr>\n",
       "      <th>1</th>\n",
       "      <td>51_1_900</td>\n",
       "      <td>900</td>\n",
       "      <td>Chlorpromazine_Sonazine_</td>\n",
       "      <td>1</td>\n",
       "      <td>2</td>\n",
       "      <td>14</td>\n",
       "      <td>120</td>\n",
       "      <td>4</td>\n",
       "      <td>562</td>\n",
       "      <td>1.68865</td>\n",
       "      <td>98.0</td>\n",
       "      <td>Female</td>\n",
       "    </tr>\n",
       "    <tr>\n",
       "      <th>2</th>\n",
       "      <td>51_1_900</td>\n",
       "      <td>900</td>\n",
       "      <td>Chlorpromazine_Sonazine_</td>\n",
       "      <td>1</td>\n",
       "      <td>3</td>\n",
       "      <td>9</td>\n",
       "      <td>94</td>\n",
       "      <td>2</td>\n",
       "      <td>594</td>\n",
       "      <td>2.06516</td>\n",
       "      <td>36.0</td>\n",
       "      <td>Female</td>\n",
       "    </tr>\n",
       "    <tr>\n",
       "      <th>3</th>\n",
       "      <td>51_1_900</td>\n",
       "      <td>900</td>\n",
       "      <td>Chlorpromazine_Sonazine_</td>\n",
       "      <td>1</td>\n",
       "      <td>4</td>\n",
       "      <td>12</td>\n",
       "      <td>108</td>\n",
       "      <td>12</td>\n",
       "      <td>538</td>\n",
       "      <td>1.75441</td>\n",
       "      <td>6.0</td>\n",
       "      <td>Female</td>\n",
       "    </tr>\n",
       "    <tr>\n",
       "      <th>4</th>\n",
       "      <td>51_1_900</td>\n",
       "      <td>900</td>\n",
       "      <td>Chlorpromazine_Sonazine_</td>\n",
       "      <td>1</td>\n",
       "      <td>5</td>\n",
       "      <td>18</td>\n",
       "      <td>194</td>\n",
       "      <td>6</td>\n",
       "      <td>658</td>\n",
       "      <td>1.78231</td>\n",
       "      <td>55.0</td>\n",
       "      <td>Female</td>\n",
       "    </tr>\n",
       "  </tbody>\n",
       "</table>\n",
       "</div>"
      ],
      "text/plain": [
       "       Name  Line                 Treatment  Concentration  Day  boutd  \\\n",
       "0  51_1_900   900  Chlorpromazine_Sonazine_              1    1     17   \n",
       "1  51_1_900   900  Chlorpromazine_Sonazine_              1    2     14   \n",
       "2  51_1_900   900  Chlorpromazine_Sonazine_              1    3      9   \n",
       "3  51_1_900   900  Chlorpromazine_Sonazine_              1    4     12   \n",
       "4  51_1_900   900  Chlorpromazine_Sonazine_              1    5     18   \n",
       "\n",
       "   sleepd  boutn  sleepn  wakeact  sleeplat     Sex  \n",
       "0     162     13     495  2.14559      73.0  Female  \n",
       "1     120      4     562  1.68865      98.0  Female  \n",
       "2      94      2     594  2.06516      36.0  Female  \n",
       "3     108     12     538  1.75441       6.0  Female  \n",
       "4     194      6     658  1.78231      55.0  Female  "
      ]
     },
     "execution_count": 7,
     "metadata": {},
     "output_type": "execute_result"
    }
   ],
   "source": [
    "# load data\n",
    "df = pd.read_csv('drug_data2.txt')\n",
    "df.head()"
   ]
  },
  {
   "cell_type": "code",
   "execution_count": 13,
   "metadata": {},
   "outputs": [],
   "source": [
    "df2 = df[['Sex','Treatment','Concentration','Day','wakeact']].copy()"
   ]
  },
  {
   "cell_type": "code",
   "execution_count": 14,
   "metadata": {
    "scrolled": true
   },
   "outputs": [
    {
     "data": {
      "text/html": [
       "<div>\n",
       "<style scoped>\n",
       "    .dataframe tbody tr th:only-of-type {\n",
       "        vertical-align: middle;\n",
       "    }\n",
       "\n",
       "    .dataframe tbody tr th {\n",
       "        vertical-align: top;\n",
       "    }\n",
       "\n",
       "    .dataframe thead th {\n",
       "        text-align: right;\n",
       "    }\n",
       "</style>\n",
       "<table border=\"1\" class=\"dataframe\">\n",
       "  <thead>\n",
       "    <tr style=\"text-align: right;\">\n",
       "      <th></th>\n",
       "      <th>Sex</th>\n",
       "      <th>Treatment</th>\n",
       "      <th>Concentration</th>\n",
       "      <th>Day</th>\n",
       "      <th>wakeact</th>\n",
       "    </tr>\n",
       "  </thead>\n",
       "  <tbody>\n",
       "    <tr>\n",
       "      <th>0</th>\n",
       "      <td>Female</td>\n",
       "      <td>Chlorpromazine_Sonazine_</td>\n",
       "      <td>1</td>\n",
       "      <td>1</td>\n",
       "      <td>2.14559</td>\n",
       "    </tr>\n",
       "    <tr>\n",
       "      <th>1</th>\n",
       "      <td>Female</td>\n",
       "      <td>Chlorpromazine_Sonazine_</td>\n",
       "      <td>1</td>\n",
       "      <td>2</td>\n",
       "      <td>1.68865</td>\n",
       "    </tr>\n",
       "    <tr>\n",
       "      <th>2</th>\n",
       "      <td>Female</td>\n",
       "      <td>Chlorpromazine_Sonazine_</td>\n",
       "      <td>1</td>\n",
       "      <td>3</td>\n",
       "      <td>2.06516</td>\n",
       "    </tr>\n",
       "    <tr>\n",
       "      <th>3</th>\n",
       "      <td>Female</td>\n",
       "      <td>Chlorpromazine_Sonazine_</td>\n",
       "      <td>1</td>\n",
       "      <td>4</td>\n",
       "      <td>1.75441</td>\n",
       "    </tr>\n",
       "    <tr>\n",
       "      <th>4</th>\n",
       "      <td>Female</td>\n",
       "      <td>Chlorpromazine_Sonazine_</td>\n",
       "      <td>1</td>\n",
       "      <td>5</td>\n",
       "      <td>1.78231</td>\n",
       "    </tr>\n",
       "    <tr>\n",
       "      <th>5</th>\n",
       "      <td>Female</td>\n",
       "      <td>Chlorpromazine_Sonazine_</td>\n",
       "      <td>1</td>\n",
       "      <td>1</td>\n",
       "      <td>4.07519</td>\n",
       "    </tr>\n",
       "    <tr>\n",
       "      <th>6</th>\n",
       "      <td>Female</td>\n",
       "      <td>Chlorpromazine_Sonazine_</td>\n",
       "      <td>1</td>\n",
       "      <td>2</td>\n",
       "      <td>5.47147</td>\n",
       "    </tr>\n",
       "    <tr>\n",
       "      <th>7</th>\n",
       "      <td>Female</td>\n",
       "      <td>Chlorpromazine_Sonazine_</td>\n",
       "      <td>1</td>\n",
       "      <td>3</td>\n",
       "      <td>6.01818</td>\n",
       "    </tr>\n",
       "    <tr>\n",
       "      <th>8</th>\n",
       "      <td>Female</td>\n",
       "      <td>Chlorpromazine_Sonazine_</td>\n",
       "      <td>1</td>\n",
       "      <td>4</td>\n",
       "      <td>4.99331</td>\n",
       "    </tr>\n",
       "    <tr>\n",
       "      <th>9</th>\n",
       "      <td>Female</td>\n",
       "      <td>Chlorpromazine_Sonazine_</td>\n",
       "      <td>1</td>\n",
       "      <td>5</td>\n",
       "      <td>5.02676</td>\n",
       "    </tr>\n",
       "    <tr>\n",
       "      <th>10</th>\n",
       "      <td>Female</td>\n",
       "      <td>Chlorpromazine_Sonazine_</td>\n",
       "      <td>1</td>\n",
       "      <td>1</td>\n",
       "      <td>1.69822</td>\n",
       "    </tr>\n",
       "    <tr>\n",
       "      <th>11</th>\n",
       "      <td>Female</td>\n",
       "      <td>Chlorpromazine_Sonazine_</td>\n",
       "      <td>1</td>\n",
       "      <td>2</td>\n",
       "      <td>1.54524</td>\n",
       "    </tr>\n",
       "    <tr>\n",
       "      <th>12</th>\n",
       "      <td>Female</td>\n",
       "      <td>Chlorpromazine_Sonazine_</td>\n",
       "      <td>1</td>\n",
       "      <td>3</td>\n",
       "      <td>1.49536</td>\n",
       "    </tr>\n",
       "    <tr>\n",
       "      <th>13</th>\n",
       "      <td>Female</td>\n",
       "      <td>Chlorpromazine_Sonazine_</td>\n",
       "      <td>1</td>\n",
       "      <td>4</td>\n",
       "      <td>1.70425</td>\n",
       "    </tr>\n",
       "    <tr>\n",
       "      <th>14</th>\n",
       "      <td>Female</td>\n",
       "      <td>Chlorpromazine_Sonazine_</td>\n",
       "      <td>1</td>\n",
       "      <td>5</td>\n",
       "      <td>1.57975</td>\n",
       "    </tr>\n",
       "    <tr>\n",
       "      <th>15</th>\n",
       "      <td>Female</td>\n",
       "      <td>Chlorpromazine_Sonazine_</td>\n",
       "      <td>1</td>\n",
       "      <td>1</td>\n",
       "      <td>1.81608</td>\n",
       "    </tr>\n",
       "    <tr>\n",
       "      <th>16</th>\n",
       "      <td>Female</td>\n",
       "      <td>Chlorpromazine_Sonazine_</td>\n",
       "      <td>1</td>\n",
       "      <td>2</td>\n",
       "      <td>1.73460</td>\n",
       "    </tr>\n",
       "    <tr>\n",
       "      <th>17</th>\n",
       "      <td>Female</td>\n",
       "      <td>Chlorpromazine_Sonazine_</td>\n",
       "      <td>1</td>\n",
       "      <td>3</td>\n",
       "      <td>1.44310</td>\n",
       "    </tr>\n",
       "    <tr>\n",
       "      <th>18</th>\n",
       "      <td>Female</td>\n",
       "      <td>Chlorpromazine_Sonazine_</td>\n",
       "      <td>1</td>\n",
       "      <td>4</td>\n",
       "      <td>1.30992</td>\n",
       "    </tr>\n",
       "    <tr>\n",
       "      <th>19</th>\n",
       "      <td>Female</td>\n",
       "      <td>Chlorpromazine_Sonazine_</td>\n",
       "      <td>1</td>\n",
       "      <td>5</td>\n",
       "      <td>1.31634</td>\n",
       "    </tr>\n",
       "    <tr>\n",
       "      <th>20</th>\n",
       "      <td>Female</td>\n",
       "      <td>Chlorpromazine_Sonazine_</td>\n",
       "      <td>1</td>\n",
       "      <td>1</td>\n",
       "      <td>1.88462</td>\n",
       "    </tr>\n",
       "    <tr>\n",
       "      <th>21</th>\n",
       "      <td>Female</td>\n",
       "      <td>Chlorpromazine_Sonazine_</td>\n",
       "      <td>1</td>\n",
       "      <td>2</td>\n",
       "      <td>1.71053</td>\n",
       "    </tr>\n",
       "    <tr>\n",
       "      <th>22</th>\n",
       "      <td>Female</td>\n",
       "      <td>Chlorpromazine_Sonazine_</td>\n",
       "      <td>1</td>\n",
       "      <td>3</td>\n",
       "      <td>1.71292</td>\n",
       "    </tr>\n",
       "    <tr>\n",
       "      <th>23</th>\n",
       "      <td>Female</td>\n",
       "      <td>Chlorpromazine_Sonazine_</td>\n",
       "      <td>1</td>\n",
       "      <td>4</td>\n",
       "      <td>1.68735</td>\n",
       "    </tr>\n",
       "    <tr>\n",
       "      <th>24</th>\n",
       "      <td>Female</td>\n",
       "      <td>Chlorpromazine_Sonazine_</td>\n",
       "      <td>1</td>\n",
       "      <td>5</td>\n",
       "      <td>1.68603</td>\n",
       "    </tr>\n",
       "    <tr>\n",
       "      <th>25</th>\n",
       "      <td>Male</td>\n",
       "      <td>Chlorpromazine_Sonazine_</td>\n",
       "      <td>1</td>\n",
       "      <td>1</td>\n",
       "      <td>2.85621</td>\n",
       "    </tr>\n",
       "    <tr>\n",
       "      <th>26</th>\n",
       "      <td>Male</td>\n",
       "      <td>Chlorpromazine_Sonazine_</td>\n",
       "      <td>1</td>\n",
       "      <td>2</td>\n",
       "      <td>2.73804</td>\n",
       "    </tr>\n",
       "    <tr>\n",
       "      <th>27</th>\n",
       "      <td>Male</td>\n",
       "      <td>Chlorpromazine_Sonazine_</td>\n",
       "      <td>1</td>\n",
       "      <td>3</td>\n",
       "      <td>2.98004</td>\n",
       "    </tr>\n",
       "    <tr>\n",
       "      <th>28</th>\n",
       "      <td>Male</td>\n",
       "      <td>Chlorpromazine_Sonazine_</td>\n",
       "      <td>1</td>\n",
       "      <td>4</td>\n",
       "      <td>2.98022</td>\n",
       "    </tr>\n",
       "    <tr>\n",
       "      <th>29</th>\n",
       "      <td>Male</td>\n",
       "      <td>Chlorpromazine_Sonazine_</td>\n",
       "      <td>1</td>\n",
       "      <td>5</td>\n",
       "      <td>2.47194</td>\n",
       "    </tr>\n",
       "    <tr>\n",
       "      <th>...</th>\n",
       "      <td>...</td>\n",
       "      <td>...</td>\n",
       "      <td>...</td>\n",
       "      <td>...</td>\n",
       "      <td>...</td>\n",
       "    </tr>\n",
       "    <tr>\n",
       "      <th>3565</th>\n",
       "      <td>Male</td>\n",
       "      <td>Sodium_salicylate</td>\n",
       "      <td>4</td>\n",
       "      <td>1</td>\n",
       "      <td>2.67059</td>\n",
       "    </tr>\n",
       "    <tr>\n",
       "      <th>3566</th>\n",
       "      <td>Male</td>\n",
       "      <td>Sodium_salicylate</td>\n",
       "      <td>4</td>\n",
       "      <td>2</td>\n",
       "      <td>2.77876</td>\n",
       "    </tr>\n",
       "    <tr>\n",
       "      <th>3567</th>\n",
       "      <td>Male</td>\n",
       "      <td>Sodium_salicylate</td>\n",
       "      <td>4</td>\n",
       "      <td>3</td>\n",
       "      <td>2.34713</td>\n",
       "    </tr>\n",
       "    <tr>\n",
       "      <th>3568</th>\n",
       "      <td>Male</td>\n",
       "      <td>Sodium_salicylate</td>\n",
       "      <td>4</td>\n",
       "      <td>4</td>\n",
       "      <td>1.99754</td>\n",
       "    </tr>\n",
       "    <tr>\n",
       "      <th>3569</th>\n",
       "      <td>Male</td>\n",
       "      <td>Sodium_salicylate</td>\n",
       "      <td>4</td>\n",
       "      <td>5</td>\n",
       "      <td>2.12968</td>\n",
       "    </tr>\n",
       "    <tr>\n",
       "      <th>3570</th>\n",
       "      <td>Male</td>\n",
       "      <td>Sodium_salicylate</td>\n",
       "      <td>4</td>\n",
       "      <td>1</td>\n",
       "      <td>2.04425</td>\n",
       "    </tr>\n",
       "    <tr>\n",
       "      <th>3571</th>\n",
       "      <td>Male</td>\n",
       "      <td>Sodium_salicylate</td>\n",
       "      <td>4</td>\n",
       "      <td>2</td>\n",
       "      <td>2.10698</td>\n",
       "    </tr>\n",
       "    <tr>\n",
       "      <th>3572</th>\n",
       "      <td>Male</td>\n",
       "      <td>Sodium_salicylate</td>\n",
       "      <td>4</td>\n",
       "      <td>3</td>\n",
       "      <td>2.11820</td>\n",
       "    </tr>\n",
       "    <tr>\n",
       "      <th>3573</th>\n",
       "      <td>Male</td>\n",
       "      <td>Sodium_salicylate</td>\n",
       "      <td>4</td>\n",
       "      <td>4</td>\n",
       "      <td>2.22161</td>\n",
       "    </tr>\n",
       "    <tr>\n",
       "      <th>3574</th>\n",
       "      <td>Male</td>\n",
       "      <td>Sodium_salicylate</td>\n",
       "      <td>4</td>\n",
       "      <td>5</td>\n",
       "      <td>2.25510</td>\n",
       "    </tr>\n",
       "    <tr>\n",
       "      <th>3575</th>\n",
       "      <td>Male</td>\n",
       "      <td>Sodium_salicylate</td>\n",
       "      <td>4</td>\n",
       "      <td>1</td>\n",
       "      <td>2.27807</td>\n",
       "    </tr>\n",
       "    <tr>\n",
       "      <th>3576</th>\n",
       "      <td>Male</td>\n",
       "      <td>Sodium_salicylate</td>\n",
       "      <td>4</td>\n",
       "      <td>2</td>\n",
       "      <td>2.06203</td>\n",
       "    </tr>\n",
       "    <tr>\n",
       "      <th>3577</th>\n",
       "      <td>Male</td>\n",
       "      <td>Sodium_salicylate</td>\n",
       "      <td>4</td>\n",
       "      <td>3</td>\n",
       "      <td>2.18597</td>\n",
       "    </tr>\n",
       "    <tr>\n",
       "      <th>3578</th>\n",
       "      <td>Male</td>\n",
       "      <td>Sodium_salicylate</td>\n",
       "      <td>4</td>\n",
       "      <td>4</td>\n",
       "      <td>2.02931</td>\n",
       "    </tr>\n",
       "    <tr>\n",
       "      <th>3579</th>\n",
       "      <td>Male</td>\n",
       "      <td>Sodium_salicylate</td>\n",
       "      <td>4</td>\n",
       "      <td>5</td>\n",
       "      <td>1.74355</td>\n",
       "    </tr>\n",
       "    <tr>\n",
       "      <th>3580</th>\n",
       "      <td>Male</td>\n",
       "      <td>Sodium_salicylate</td>\n",
       "      <td>4</td>\n",
       "      <td>1</td>\n",
       "      <td>2.95763</td>\n",
       "    </tr>\n",
       "    <tr>\n",
       "      <th>3581</th>\n",
       "      <td>Male</td>\n",
       "      <td>Sodium_salicylate</td>\n",
       "      <td>4</td>\n",
       "      <td>2</td>\n",
       "      <td>2.70556</td>\n",
       "    </tr>\n",
       "    <tr>\n",
       "      <th>3582</th>\n",
       "      <td>Male</td>\n",
       "      <td>Sodium_salicylate</td>\n",
       "      <td>4</td>\n",
       "      <td>3</td>\n",
       "      <td>2.43219</td>\n",
       "    </tr>\n",
       "    <tr>\n",
       "      <th>3583</th>\n",
       "      <td>Male</td>\n",
       "      <td>Sodium_salicylate</td>\n",
       "      <td>4</td>\n",
       "      <td>4</td>\n",
       "      <td>2.17369</td>\n",
       "    </tr>\n",
       "    <tr>\n",
       "      <th>3584</th>\n",
       "      <td>Male</td>\n",
       "      <td>Sodium_salicylate</td>\n",
       "      <td>4</td>\n",
       "      <td>5</td>\n",
       "      <td>2.27955</td>\n",
       "    </tr>\n",
       "    <tr>\n",
       "      <th>3585</th>\n",
       "      <td>Male</td>\n",
       "      <td>Sodium_salicylate</td>\n",
       "      <td>4</td>\n",
       "      <td>1</td>\n",
       "      <td>2.86598</td>\n",
       "    </tr>\n",
       "    <tr>\n",
       "      <th>3586</th>\n",
       "      <td>Male</td>\n",
       "      <td>Sodium_salicylate</td>\n",
       "      <td>4</td>\n",
       "      <td>2</td>\n",
       "      <td>2.43208</td>\n",
       "    </tr>\n",
       "    <tr>\n",
       "      <th>3587</th>\n",
       "      <td>Male</td>\n",
       "      <td>Sodium_salicylate</td>\n",
       "      <td>4</td>\n",
       "      <td>3</td>\n",
       "      <td>2.52036</td>\n",
       "    </tr>\n",
       "    <tr>\n",
       "      <th>3588</th>\n",
       "      <td>Male</td>\n",
       "      <td>Sodium_salicylate</td>\n",
       "      <td>4</td>\n",
       "      <td>4</td>\n",
       "      <td>2.98107</td>\n",
       "    </tr>\n",
       "    <tr>\n",
       "      <th>3589</th>\n",
       "      <td>Male</td>\n",
       "      <td>Sodium_salicylate</td>\n",
       "      <td>4</td>\n",
       "      <td>5</td>\n",
       "      <td>2.39959</td>\n",
       "    </tr>\n",
       "    <tr>\n",
       "      <th>3590</th>\n",
       "      <td>Male</td>\n",
       "      <td>Sodium_salicylate</td>\n",
       "      <td>4</td>\n",
       "      <td>1</td>\n",
       "      <td>2.18644</td>\n",
       "    </tr>\n",
       "    <tr>\n",
       "      <th>3591</th>\n",
       "      <td>Male</td>\n",
       "      <td>Sodium_salicylate</td>\n",
       "      <td>4</td>\n",
       "      <td>2</td>\n",
       "      <td>2.02519</td>\n",
       "    </tr>\n",
       "    <tr>\n",
       "      <th>3592</th>\n",
       "      <td>Male</td>\n",
       "      <td>Sodium_salicylate</td>\n",
       "      <td>4</td>\n",
       "      <td>3</td>\n",
       "      <td>1.68972</td>\n",
       "    </tr>\n",
       "    <tr>\n",
       "      <th>3593</th>\n",
       "      <td>Male</td>\n",
       "      <td>Sodium_salicylate</td>\n",
       "      <td>4</td>\n",
       "      <td>4</td>\n",
       "      <td>1.54478</td>\n",
       "    </tr>\n",
       "    <tr>\n",
       "      <th>3594</th>\n",
       "      <td>Male</td>\n",
       "      <td>Sodium_salicylate</td>\n",
       "      <td>4</td>\n",
       "      <td>5</td>\n",
       "      <td>1.48440</td>\n",
       "    </tr>\n",
       "  </tbody>\n",
       "</table>\n",
       "<p>3595 rows × 5 columns</p>\n",
       "</div>"
      ],
      "text/plain": [
       "         Sex                 Treatment  Concentration  Day  wakeact\n",
       "0     Female  Chlorpromazine_Sonazine_              1    1  2.14559\n",
       "1     Female  Chlorpromazine_Sonazine_              1    2  1.68865\n",
       "2     Female  Chlorpromazine_Sonazine_              1    3  2.06516\n",
       "3     Female  Chlorpromazine_Sonazine_              1    4  1.75441\n",
       "4     Female  Chlorpromazine_Sonazine_              1    5  1.78231\n",
       "5     Female  Chlorpromazine_Sonazine_              1    1  4.07519\n",
       "6     Female  Chlorpromazine_Sonazine_              1    2  5.47147\n",
       "7     Female  Chlorpromazine_Sonazine_              1    3  6.01818\n",
       "8     Female  Chlorpromazine_Sonazine_              1    4  4.99331\n",
       "9     Female  Chlorpromazine_Sonazine_              1    5  5.02676\n",
       "10    Female  Chlorpromazine_Sonazine_              1    1  1.69822\n",
       "11    Female  Chlorpromazine_Sonazine_              1    2  1.54524\n",
       "12    Female  Chlorpromazine_Sonazine_              1    3  1.49536\n",
       "13    Female  Chlorpromazine_Sonazine_              1    4  1.70425\n",
       "14    Female  Chlorpromazine_Sonazine_              1    5  1.57975\n",
       "15    Female  Chlorpromazine_Sonazine_              1    1  1.81608\n",
       "16    Female  Chlorpromazine_Sonazine_              1    2  1.73460\n",
       "17    Female  Chlorpromazine_Sonazine_              1    3  1.44310\n",
       "18    Female  Chlorpromazine_Sonazine_              1    4  1.30992\n",
       "19    Female  Chlorpromazine_Sonazine_              1    5  1.31634\n",
       "20    Female  Chlorpromazine_Sonazine_              1    1  1.88462\n",
       "21    Female  Chlorpromazine_Sonazine_              1    2  1.71053\n",
       "22    Female  Chlorpromazine_Sonazine_              1    3  1.71292\n",
       "23    Female  Chlorpromazine_Sonazine_              1    4  1.68735\n",
       "24    Female  Chlorpromazine_Sonazine_              1    5  1.68603\n",
       "25      Male  Chlorpromazine_Sonazine_              1    1  2.85621\n",
       "26      Male  Chlorpromazine_Sonazine_              1    2  2.73804\n",
       "27      Male  Chlorpromazine_Sonazine_              1    3  2.98004\n",
       "28      Male  Chlorpromazine_Sonazine_              1    4  2.98022\n",
       "29      Male  Chlorpromazine_Sonazine_              1    5  2.47194\n",
       "...      ...                       ...            ...  ...      ...\n",
       "3565    Male         Sodium_salicylate              4    1  2.67059\n",
       "3566    Male         Sodium_salicylate              4    2  2.77876\n",
       "3567    Male         Sodium_salicylate              4    3  2.34713\n",
       "3568    Male         Sodium_salicylate              4    4  1.99754\n",
       "3569    Male         Sodium_salicylate              4    5  2.12968\n",
       "3570    Male         Sodium_salicylate              4    1  2.04425\n",
       "3571    Male         Sodium_salicylate              4    2  2.10698\n",
       "3572    Male         Sodium_salicylate              4    3  2.11820\n",
       "3573    Male         Sodium_salicylate              4    4  2.22161\n",
       "3574    Male         Sodium_salicylate              4    5  2.25510\n",
       "3575    Male         Sodium_salicylate              4    1  2.27807\n",
       "3576    Male         Sodium_salicylate              4    2  2.06203\n",
       "3577    Male         Sodium_salicylate              4    3  2.18597\n",
       "3578    Male         Sodium_salicylate              4    4  2.02931\n",
       "3579    Male         Sodium_salicylate              4    5  1.74355\n",
       "3580    Male         Sodium_salicylate              4    1  2.95763\n",
       "3581    Male         Sodium_salicylate              4    2  2.70556\n",
       "3582    Male         Sodium_salicylate              4    3  2.43219\n",
       "3583    Male         Sodium_salicylate              4    4  2.17369\n",
       "3584    Male         Sodium_salicylate              4    5  2.27955\n",
       "3585    Male         Sodium_salicylate              4    1  2.86598\n",
       "3586    Male         Sodium_salicylate              4    2  2.43208\n",
       "3587    Male         Sodium_salicylate              4    3  2.52036\n",
       "3588    Male         Sodium_salicylate              4    4  2.98107\n",
       "3589    Male         Sodium_salicylate              4    5  2.39959\n",
       "3590    Male         Sodium_salicylate              4    1  2.18644\n",
       "3591    Male         Sodium_salicylate              4    2  2.02519\n",
       "3592    Male         Sodium_salicylate              4    3  1.68972\n",
       "3593    Male         Sodium_salicylate              4    4  1.54478\n",
       "3594    Male         Sodium_salicylate              4    5  1.48440\n",
       "\n",
       "[3595 rows x 5 columns]"
      ]
     },
     "execution_count": 14,
     "metadata": {},
     "output_type": "execute_result"
    }
   ],
   "source": [
    "df2"
   ]
  },
  {
   "cell_type": "code",
   "execution_count": 15,
   "metadata": {},
   "outputs": [],
   "source": [
    "df3 = np.array(df2)"
   ]
  },
  {
   "cell_type": "code",
   "execution_count": 16,
   "metadata": {},
   "outputs": [
    {
     "data": {
      "text/plain": [
       "(3595, 5)"
      ]
     },
     "execution_count": 16,
     "metadata": {},
     "output_type": "execute_result"
    }
   ],
   "source": [
    "df3.shape"
   ]
  },
  {
   "cell_type": "code",
   "execution_count": 17,
   "metadata": {},
   "outputs": [],
   "source": [
    "# select only day = 5\n",
    "df = df3[df3[:,3] ==5]"
   ]
  },
  {
   "cell_type": "code",
   "execution_count": 18,
   "metadata": {},
   "outputs": [
    {
     "data": {
      "text/plain": [
       "(719, 5)"
      ]
     },
     "execution_count": 18,
     "metadata": {},
     "output_type": "execute_result"
    }
   ],
   "source": [
    "df.shape"
   ]
  },
  {
   "cell_type": "code",
   "execution_count": 19,
   "metadata": {},
   "outputs": [
    {
     "data": {
      "text/plain": [
       "(719, 3)"
      ]
     },
     "execution_count": 19,
     "metadata": {},
     "output_type": "execute_result"
    }
   ],
   "source": [
    "# features:\n",
    "X = df[:,0:3]\n",
    "X.shape"
   ]
  },
  {
   "cell_type": "code",
   "execution_count": 20,
   "metadata": {},
   "outputs": [
    {
     "data": {
      "text/plain": [
       "(array(['Female', 'Male'], dtype=object), array([365, 354]))"
      ]
     },
     "execution_count": 20,
     "metadata": {},
     "output_type": "execute_result"
    }
   ],
   "source": [
    "np.unique(X[:,0],return_counts=True)"
   ]
  },
  {
   "cell_type": "code",
   "execution_count": 21,
   "metadata": {},
   "outputs": [
    {
     "data": {
      "text/plain": [
       "(array(['Chlorpromazine_Sonazine_', 'Pizotifen_malate',\n",
       "        'Sodium_salicylate', 'Trifluoperazine2HCl_'], dtype=object),\n",
       " array([172, 184, 180, 183]))"
      ]
     },
     "execution_count": 21,
     "metadata": {},
     "output_type": "execute_result"
    }
   ],
   "source": [
    "np.unique(X[:,1],return_counts=True)"
   ]
  },
  {
   "cell_type": "code",
   "execution_count": 22,
   "metadata": {},
   "outputs": [
    {
     "data": {
      "text/plain": [
       "(array([1, 2, 3, 4], dtype=object), array([160, 184, 187, 188]))"
      ]
     },
     "execution_count": 22,
     "metadata": {},
     "output_type": "execute_result"
    }
   ],
   "source": [
    "np.unique(X[:,2],return_counts=True)"
   ]
  },
  {
   "cell_type": "code",
   "execution_count": 36,
   "metadata": {},
   "outputs": [],
   "source": [
    "y = df[:,4].astype(float)"
   ]
  },
  {
   "cell_type": "code",
   "execution_count": 37,
   "metadata": {},
   "outputs": [
    {
     "data": {
      "text/plain": [
       "0.0"
      ]
     },
     "execution_count": 37,
     "metadata": {},
     "output_type": "execute_result"
    }
   ],
   "source": [
    "y.min()"
   ]
  },
  {
   "cell_type": "code",
   "execution_count": 39,
   "metadata": {},
   "outputs": [],
   "source": [
    "bins = np.linspace(min(y), max(y),10, endpoint=False)"
   ]
  },
  {
   "cell_type": "code",
   "execution_count": 40,
   "metadata": {
    "scrolled": true
   },
   "outputs": [
    {
     "data": {
      "text/plain": [
       "array([0.      , 0.739389, 1.478778, 2.218167, 2.957556, 3.696945,\n",
       "       4.436334, 5.175723, 5.915112, 6.654501])"
      ]
     },
     "execution_count": 40,
     "metadata": {},
     "output_type": "execute_result"
    }
   ],
   "source": [
    "bins"
   ]
  },
  {
   "cell_type": "code",
   "execution_count": 41,
   "metadata": {
    "scrolled": true
   },
   "outputs": [
    {
     "data": {
      "text/plain": [
       "(array([ 10.,  87., 291., 216.,  85.,  19.,   4.,   5.,   1.]),\n",
       " array([0.      , 0.739389, 1.478778, 2.218167, 2.957556, 3.696945,\n",
       "        4.436334, 5.175723, 5.915112, 6.654501]),\n",
       " <a list of 9 Patch objects>)"
      ]
     },
     "execution_count": 41,
     "metadata": {},
     "output_type": "execute_result"
    },
    {
     "data": {
      "image/png": "[encoded data removed]",
      "text/plain": [
       "<Figure size 432x288 with 1 Axes>"
      ]
     },
     "metadata": {
      "needs_background": "light"
     },
     "output_type": "display_data"
    }
   ],
   "source": [
    "plt.hist(y,bins)"
   ]
  },
  {
   "cell_type": "code",
   "execution_count": 42,
   "metadata": {},
   "outputs": [],
   "source": [
    "from sklearn.preprocessing import KBinsDiscretizer"
   ]
  },
  {
   "cell_type": "code",
   "execution_count": 57,
   "metadata": {},
   "outputs": [],
   "source": [
    "est = KBinsDiscretizer(n_bins=3, encode='ordinal', strategy='quantile')"
   ]
  },
  {
   "cell_type": "code",
   "execution_count": 58,
   "metadata": {},
   "outputs": [
    {
     "data": {
      "text/plain": [
       "KBinsDiscretizer(encode='ordinal', n_bins=3, strategy='quantile')"
      ]
     },
     "execution_count": 58,
     "metadata": {},
     "output_type": "execute_result"
    }
   ],
   "source": [
    "est.fit(y.reshape(-1,1))"
   ]
  },
  {
   "cell_type": "code",
   "execution_count": 59,
   "metadata": {},
   "outputs": [],
   "source": [
    "ynew = est.transform(y.reshape(-1,1))"
   ]
  },
  {
   "cell_type": "code",
   "execution_count": 60,
   "metadata": {},
   "outputs": [
    {
     "data": {
      "text/plain": [
       "(array([0., 1., 2.]), array([240, 239, 240]))"
      ]
     },
     "execution_count": 60,
     "metadata": {},
     "output_type": "execute_result"
    }
   ],
   "source": [
    "np.unique(ynew,return_counts=True)"
   ]
  },
  {
   "cell_type": "code",
   "execution_count": 61,
   "metadata": {},
   "outputs": [
    {
     "data": {
      "text/plain": [
       "array([['Female', 'Chlorpromazine_Sonazine_', 1],\n",
       "       ['Female', 'Chlorpromazine_Sonazine_', 1],\n",
       "       ['Female', 'Chlorpromazine_Sonazine_', 1],\n",
       "       ...,\n",
       "       ['Male', 'Sodium_salicylate', 4],\n",
       "       ['Male', 'Sodium_salicylate', 4],\n",
       "       ['Male', 'Sodium_salicylate', 4]], dtype=object)"
      ]
     },
     "execution_count": 61,
     "metadata": {},
     "output_type": "execute_result"
    }
   ],
   "source": [
    "X"
   ]
  },
  {
   "cell_type": "code",
   "execution_count": 62,
   "metadata": {},
   "outputs": [],
   "source": [
    "l,n = X.shape\n",
    "\n",
    "x0 = np.ones(l)\n",
    "x0[X[:,0] == 'Female'] = -1."
   ]
  },
  {
   "cell_type": "code",
   "execution_count": 64,
   "metadata": {},
   "outputs": [
    {
     "data": {
      "text/plain": [
       "(array([-1.,  1.]), array([365, 354]))"
      ]
     },
     "execution_count": 64,
     "metadata": {},
     "output_type": "execute_result"
    }
   ],
   "source": [
    "np.unique(x0,return_counts=True)"
   ]
  },
  {
   "cell_type": "code",
   "execution_count": 65,
   "metadata": {},
   "outputs": [],
   "source": [
    "from sklearn.preprocessing import OneHotEncoder\n",
    "onehot_encoder = OneHotEncoder(sparse=False,categories='auto')\n",
    "x1 = onehot_encoder.fit_transform(X[:,1].reshape(-1,1))"
   ]
  },
  {
   "cell_type": "code",
   "execution_count": 66,
   "metadata": {},
   "outputs": [
    {
     "data": {
      "text/plain": [
       "(719, 4)"
      ]
     },
     "execution_count": 66,
     "metadata": {},
     "output_type": "execute_result"
    }
   ],
   "source": [
    "x1.shape"
   ]
  },
  {
   "cell_type": "code",
   "execution_count": 68,
   "metadata": {},
   "outputs": [],
   "source": [
    "x2 = X[:,2].astype(float)"
   ]
  },
  {
   "cell_type": "code",
   "execution_count": 70,
   "metadata": {},
   "outputs": [
    {
     "data": {
      "text/plain": [
       "(719, 6)"
      ]
     },
     "execution_count": 70,
     "metadata": {},
     "output_type": "execute_result"
    }
   ],
   "source": [
    "X = np.hstack([x0[:,np.newaxis],x1,x2[:,np.newaxis]])\n",
    "X.shape"
   ]
  },
  {
   "cell_type": "code",
   "execution_count": null,
   "metadata": {},
   "outputs": [],
   "source": []
  }
 ],
 "metadata": {
  "kernelspec": {
   "display_name": "Python 3",
   "language": "python",
   "name": "python3"
  },
  "language_info": {
   "codemirror_mode": {
    "name": "ipython",
    "version": 3
   },
   "file_extension": ".py",
   "mimetype": "text/x-python",
   "name": "python",
   "nbconvert_exporter": "python",
   "pygments_lexer": "ipython3",
   "version": "3.7.3"
  }
 },
 "nbformat": 4,
 "nbformat_minor": 2
}
