{
 "cells": [
  {
   "cell_type": "markdown",
   "metadata": {},
   "source": [
    "## Drug Effect"
   ]
  },
  {
   "cell_type": "code",
   "execution_count": 1,
   "metadata": {},
   "outputs": [],
   "source": [
    "import numpy as np\n",
    "import pandas as pd\n",
    "\n",
    "from sklearn.model_selection import train_test_split\n",
    "from sklearn.model_selection import KFold\n",
    "from sklearn.metrics import accuracy_score\n",
    "\n",
    "import expectation_reflection as ER\n",
    "\n",
    "import matplotlib.pyplot as plt\n",
    "%matplotlib inline"
   ]
  },
  {
   "cell_type": "code",
   "execution_count": 2,
   "metadata": {},
   "outputs": [],
   "source": [
    "np.random.seed(1)"
   ]
  },
  {
   "cell_type": "code",
   "execution_count": 3,
   "metadata": {
    "scrolled": true
   },
   "outputs": [
    {
     "data": {
      "text/html": [
       "<div>\n",
       "<style scoped>\n",
       "    .dataframe tbody tr th:only-of-type {\n",
       "        vertical-align: middle;\n",
       "    }\n",
       "\n",
       "    .dataframe tbody tr th {\n",
       "        vertical-align: top;\n",
       "    }\n",
       "\n",
       "    .dataframe thead th {\n",
       "        text-align: right;\n",
       "    }\n",
       "</style>\n",
       "<table border=\"1\" class=\"dataframe\">\n",
       "  <thead>\n",
       "    <tr style=\"text-align: right;\">\n",
       "      <th></th>\n",
       "      <th>SampleID</th>\n",
       "      <th>Fly</th>\n",
       "      <th>Survival</th>\n",
       "      <th>Concentration</th>\n",
       "      <th>Line</th>\n",
       "      <th>Sex</th>\n",
       "      <th>Replicate</th>\n",
       "      <th>Drug</th>\n",
       "      <th>Number</th>\n",
       "    </tr>\n",
       "  </thead>\n",
       "  <tbody>\n",
       "    <tr>\n",
       "      <th>0</th>\n",
       "      <td>1</td>\n",
       "      <td>0.229.Female.1.Trifluroperazine.1</td>\n",
       "      <td>96</td>\n",
       "      <td>0</td>\n",
       "      <td>229</td>\n",
       "      <td>Female</td>\n",
       "      <td>1</td>\n",
       "      <td>Trifluroperazine</td>\n",
       "      <td>1</td>\n",
       "    </tr>\n",
       "    <tr>\n",
       "      <th>1</th>\n",
       "      <td>2</td>\n",
       "      <td>0.229.Female.1.Trifluroperazine.10</td>\n",
       "      <td>96</td>\n",
       "      <td>0</td>\n",
       "      <td>229</td>\n",
       "      <td>Female</td>\n",
       "      <td>1</td>\n",
       "      <td>Trifluroperazine</td>\n",
       "      <td>10</td>\n",
       "    </tr>\n",
       "    <tr>\n",
       "      <th>2</th>\n",
       "      <td>3</td>\n",
       "      <td>0.229.Female.1.Trifluroperazine.11</td>\n",
       "      <td>96</td>\n",
       "      <td>0</td>\n",
       "      <td>229</td>\n",
       "      <td>Female</td>\n",
       "      <td>1</td>\n",
       "      <td>Trifluroperazine</td>\n",
       "      <td>11</td>\n",
       "    </tr>\n",
       "    <tr>\n",
       "      <th>3</th>\n",
       "      <td>4</td>\n",
       "      <td>0.229.Female.1.Trifluroperazine.12</td>\n",
       "      <td>96</td>\n",
       "      <td>0</td>\n",
       "      <td>229</td>\n",
       "      <td>Female</td>\n",
       "      <td>1</td>\n",
       "      <td>Trifluroperazine</td>\n",
       "      <td>12</td>\n",
       "    </tr>\n",
       "    <tr>\n",
       "      <th>4</th>\n",
       "      <td>5</td>\n",
       "      <td>0.229.Female.1.Trifluroperazine.13</td>\n",
       "      <td>96</td>\n",
       "      <td>0</td>\n",
       "      <td>229</td>\n",
       "      <td>Female</td>\n",
       "      <td>1</td>\n",
       "      <td>Trifluroperazine</td>\n",
       "      <td>13</td>\n",
       "    </tr>\n",
       "  </tbody>\n",
       "</table>\n",
       "</div>"
      ],
      "text/plain": [
       "   SampleID                                 Fly  Survival Concentration  Line  \\\n",
       "0         1   0.229.Female.1.Trifluroperazine.1        96             0   229   \n",
       "1         2  0.229.Female.1.Trifluroperazine.10        96             0   229   \n",
       "2         3  0.229.Female.1.Trifluroperazine.11        96             0   229   \n",
       "3         4  0.229.Female.1.Trifluroperazine.12        96             0   229   \n",
       "4         5  0.229.Female.1.Trifluroperazine.13        96             0   229   \n",
       "\n",
       "      Sex  Replicate              Drug  Number  \n",
       "0  Female          1  Trifluroperazine       1  \n",
       "1  Female          1  Trifluroperazine      10  \n",
       "2  Female          1  Trifluroperazine      11  \n",
       "3  Female          1  Trifluroperazine      12  \n",
       "4  Female          1  Trifluroperazine      13  "
      ]
     },
     "execution_count": 3,
     "metadata": {},
     "output_type": "execute_result"
    }
   ],
   "source": [
    "# load data\n",
    "df = pd.read_csv('../drug_data.csv')\n",
    "df.head()"
   ]
  },
  {
   "cell_type": "code",
   "execution_count": 4,
   "metadata": {},
   "outputs": [
    {
     "data": {
      "text/html": [
       "<div>\n",
       "<style scoped>\n",
       "    .dataframe tbody tr th:only-of-type {\n",
       "        vertical-align: middle;\n",
       "    }\n",
       "\n",
       "    .dataframe tbody tr th {\n",
       "        vertical-align: top;\n",
       "    }\n",
       "\n",
       "    .dataframe thead th {\n",
       "        text-align: right;\n",
       "    }\n",
       "</style>\n",
       "<table border=\"1\" class=\"dataframe\">\n",
       "  <thead>\n",
       "    <tr style=\"text-align: right;\">\n",
       "      <th></th>\n",
       "      <th>Concentration</th>\n",
       "      <th>Line</th>\n",
       "      <th>Sex</th>\n",
       "      <th>Replicate</th>\n",
       "      <th>Drug</th>\n",
       "      <th>Number</th>\n",
       "      <th>Survival</th>\n",
       "    </tr>\n",
       "  </thead>\n",
       "  <tbody>\n",
       "    <tr>\n",
       "      <th>0</th>\n",
       "      <td>0</td>\n",
       "      <td>229</td>\n",
       "      <td>Female</td>\n",
       "      <td>1</td>\n",
       "      <td>Trifluroperazine</td>\n",
       "      <td>1</td>\n",
       "      <td>96</td>\n",
       "    </tr>\n",
       "    <tr>\n",
       "      <th>1</th>\n",
       "      <td>0</td>\n",
       "      <td>229</td>\n",
       "      <td>Female</td>\n",
       "      <td>1</td>\n",
       "      <td>Trifluroperazine</td>\n",
       "      <td>10</td>\n",
       "      <td>96</td>\n",
       "    </tr>\n",
       "    <tr>\n",
       "      <th>2</th>\n",
       "      <td>0</td>\n",
       "      <td>229</td>\n",
       "      <td>Female</td>\n",
       "      <td>1</td>\n",
       "      <td>Trifluroperazine</td>\n",
       "      <td>11</td>\n",
       "      <td>96</td>\n",
       "    </tr>\n",
       "    <tr>\n",
       "      <th>3</th>\n",
       "      <td>0</td>\n",
       "      <td>229</td>\n",
       "      <td>Female</td>\n",
       "      <td>1</td>\n",
       "      <td>Trifluroperazine</td>\n",
       "      <td>12</td>\n",
       "      <td>96</td>\n",
       "    </tr>\n",
       "    <tr>\n",
       "      <th>4</th>\n",
       "      <td>0</td>\n",
       "      <td>229</td>\n",
       "      <td>Female</td>\n",
       "      <td>1</td>\n",
       "      <td>Trifluroperazine</td>\n",
       "      <td>13</td>\n",
       "      <td>96</td>\n",
       "    </tr>\n",
       "  </tbody>\n",
       "</table>\n",
       "</div>"
      ],
      "text/plain": [
       "  Concentration  Line     Sex  Replicate              Drug  Number  Survival\n",
       "0             0   229  Female          1  Trifluroperazine       1        96\n",
       "1             0   229  Female          1  Trifluroperazine      10        96\n",
       "2             0   229  Female          1  Trifluroperazine      11        96\n",
       "3             0   229  Female          1  Trifluroperazine      12        96\n",
       "4             0   229  Female          1  Trifluroperazine      13        96"
      ]
     },
     "execution_count": 4,
     "metadata": {},
     "output_type": "execute_result"
    }
   ],
   "source": [
    "df = df.drop(['SampleID','Fly'],axis=1)\n",
    "df1 = df.pop('Survival') # remove column diagnosis and store it in df1\n",
    "df['Survival'] = df1 # add df1 to df as a 'new' column\n",
    "df.head()"
   ]
  },
  {
   "cell_type": "code",
   "execution_count": 5,
   "metadata": {},
   "outputs": [],
   "source": [
    "# select features and target:\n",
    "df = np.array(df)\n",
    "\n",
    "# features:\n",
    "X = df[:,:-1]\n",
    "l,n = X.shape\n",
    "#print(l,n)\n",
    "\n",
    "# target:\n",
    "y = df[:,-1].astype(float)\n",
    "# convert 1,0 to 1,-1:\n",
    "#y = 2*y - 1"
   ]
  },
  {
   "cell_type": "markdown",
   "metadata": {},
   "source": [
    "### Clean data"
   ]
  },
  {
   "cell_type": "code",
   "execution_count": 6,
   "metadata": {},
   "outputs": [],
   "source": [
    "from sklearn.preprocessing import OneHotEncoder\n",
    "onehot_encoder = OneHotEncoder(sparse=False,categories='auto')\n",
    "\n",
    "# Concentration\n",
    "x0 = X[:,0]\n",
    "#print(np.unique(x0))\n",
    "x0[np.where(x0=='12_5')] = 12.5\n",
    "#print(np.unique(x0))\n",
    "x0 = x0.astype(float)\n",
    "#print(np.unique(x0))\n",
    "\n",
    "# line = X[:,1] = {229,703,900} --> 3\n",
    "x1 = onehot_encoder.fit_transform(X[:,1].reshape(-1,1))\n",
    "\n",
    "# sex = X[:,2] = {Female,Male} --> 2\n",
    "x2 = onehot_encoder.fit_transform(X[:,2].reshape(-1,1))\n",
    "\n",
    "# Replicate\n",
    "x3 = X[:,3]\n",
    "#print(np.unique(x3))\n",
    "x3 = x3.astype(float)\n",
    "#print(np.unique(x3))\n",
    "\n",
    "# Drug = X[:,4] = {Trifluroperazine,Cdcl2} --> 2\n",
    "x4 = onehot_encoder.fit_transform(X[:,4].reshape(-1,1))\n",
    "\n",
    "# Number\n",
    "x5 = X[:,5]\n",
    "#print(np.unique(x5))\n",
    "x5 = x5.astype(float)\n",
    "#print(np.unique(x5))"
   ]
  },
  {
   "cell_type": "code",
   "execution_count": 7,
   "metadata": {},
   "outputs": [
    {
     "data": {
      "text/plain": [
       "(3240, 9)"
      ]
     },
     "execution_count": 7,
     "metadata": {},
     "output_type": "execute_result"
    }
   ],
   "source": [
    "# Combine every variables\n",
    "Xnew = np.hstack([x0[:,np.newaxis],x1])\n",
    "Xnew = np.hstack([Xnew,x2])\n",
    "Xnew = np.hstack([Xnew,x3[:,np.newaxis]])\n",
    "Xnew = np.hstack([Xnew,x4])\n",
    "#Xnew = np.hstack([Xnew,x5[:,np.newaxis]])\n",
    "\n",
    "Xnew.shape"
   ]
  },
  {
   "cell_type": "code",
   "execution_count": 8,
   "metadata": {},
   "outputs": [
    {
     "data": {
      "text/plain": [
       "(3240,)"
      ]
     },
     "execution_count": 8,
     "metadata": {},
     "output_type": "execute_result"
    }
   ],
   "source": [
    "# convert Servival to -1 if < 72, 1 if =>72:\n",
    "ynew = np.ones(l)\n",
    "ynew[y < 72.] = -1.\n",
    "ynew.shape"
   ]
  },
  {
   "cell_type": "code",
   "execution_count": 9,
   "metadata": {},
   "outputs": [],
   "source": [
    "X = Xnew\n",
    "y = ynew"
   ]
  },
  {
   "cell_type": "markdown",
   "metadata": {},
   "source": [
    "### Shuffle data"
   ]
  },
  {
   "cell_type": "code",
   "execution_count": 10,
   "metadata": {},
   "outputs": [],
   "source": [
    "from sklearn.utils import shuffle\n",
    "X, y = shuffle(X, y)"
   ]
  },
  {
   "cell_type": "code",
   "execution_count": 11,
   "metadata": {},
   "outputs": [],
   "source": [
    "#from sklearn.preprocessing import StandardScaler\n",
    "#X = StandardScaler().fit_transform(X)\n",
    "\n",
    "from sklearn.preprocessing import MinMaxScaler\n",
    "X = MinMaxScaler().fit_transform(X)"
   ]
  },
  {
   "cell_type": "code",
   "execution_count": 12,
   "metadata": {},
   "outputs": [],
   "source": [
    "kf = 5"
   ]
  },
  {
   "cell_type": "markdown",
   "metadata": {},
   "source": [
    "### Prediction with Expectation Reflection"
   ]
  },
  {
   "cell_type": "code",
   "execution_count": 13,
   "metadata": {},
   "outputs": [],
   "source": [
    "def ER_inference(X,y,kf=5,regu=0.005):    \n",
    "    #x_train,x_test,y_train,y_test = train_test_split(X1,y,test_size=0.3,random_state = 100)    \n",
    "    kfold = KFold(n_splits=kf,shuffle=False,random_state=1)\n",
    "    accuracy = np.zeros(kf)\n",
    "    \n",
    "    for i,(train_index,test_index) in enumerate(kfold.split(y)):\n",
    "        X_train, X_test = X[train_index], X[test_index]\n",
    "        y_train, y_test = y[train_index], y[test_index]\n",
    "\n",
    "        # predict with ER\n",
    "        h0,w = ER.fit(X_train,y_train,niter_max=100,regu=0.005)\n",
    "        y_pred = ER.predict(X_test,h0,w)\n",
    "        accuracy[i] = accuracy_score(y_test,y_pred)\n",
    "        #print(accuracy[i])\n",
    "    return accuracy.mean(),accuracy.std()"
   ]
  },
  {
   "cell_type": "code",
   "execution_count": 14,
   "metadata": {
    "scrolled": true
   },
   "outputs": [
    {
     "name": "stdout",
     "output_type": "stream",
     "text": [
      "('ER:', 0.9364197530864198, 0.009176585646492904, 0.0)\n",
      "('ER:', 0.9364197530864198, 0.009176585646492904, 0.001)\n",
      "('ER:', 0.9364197530864198, 0.009176585646492904, 0.002)\n",
      "('ER:', 0.9364197530864198, 0.009176585646492904, 0.003)\n",
      "('ER:', 0.9364197530864198, 0.009176585646492904, 0.004)\n",
      "('ER:', 0.9364197530864198, 0.009176585646492904, 0.005)\n",
      "('ER:', 0.9364197530864198, 0.009176585646492904, 0.01)\n",
      "('ER:', 0.9364197530864198, 0.009176585646492904, 0.02)\n",
      "('ER:', 0.9364197530864198, 0.009176585646492904, 0.1)\n",
      "('ER:', 0.9364197530864198, 0.009176585646492904, 0.2)\n",
      "('ER:', 0.9364197530864198, 0.009176585646492904, 0.5)\n",
      "('ER:', 0.9364197530864198, 0.009176585646492904, 0.6)\n",
      "('ER:', 0.9364197530864198, 0.009176585646492904, 0.8)\n",
      "('ER:', 0.9364197530864198, 0.009176585646492904, 1.0)\n"
     ]
    }
   ],
   "source": [
    "regu_list = [0.0,0.001,0.002,0.003,0.004,0.005,0.01,0.02,0.1,0.2,0.5,0.6,0.8,1.]\n",
    "for regu in regu_list:\n",
    "    accuracy_mean,accuracy_std = ER_inference(X,y,kf,regu)\n",
    "    print('ER:',accuracy_mean,accuracy_std,regu)"
   ]
  },
  {
   "cell_type": "markdown",
   "metadata": {},
   "source": [
    "### Compare with other existing machine learning algorithms"
   ]
  },
  {
   "cell_type": "code",
   "execution_count": 15,
   "metadata": {},
   "outputs": [],
   "source": [
    "from sklearn.linear_model import LogisticRegression\n",
    "from sklearn.naive_bayes import GaussianNB\n",
    "from sklearn.tree import DecisionTreeClassifier\n",
    "from sklearn.ensemble import RandomForestClassifier\n",
    "\n",
    "def ML_inference(X,y,kf=5,method='naive_bayes'):     \n",
    "    kfold = KFold(n_splits=kf,shuffle=False,random_state=1)            \n",
    "    accuracy = np.zeros(kf)\n",
    "            \n",
    "    if method == 'logistic_regression':\n",
    "        model = LogisticRegression(solver='liblinear')\n",
    "\n",
    "    if method == 'naive_bayes': \n",
    "        model = GaussianNB()\n",
    "        \n",
    "    if method == 'random_forest':\n",
    "        model = RandomForestClassifier(criterion = \"gini\", random_state = 1,\n",
    "                               max_depth=3, min_samples_leaf=5,n_estimators=100)        \n",
    "    if method == 'decision_tree':\n",
    "        model = DecisionTreeClassifier()  \n",
    "        \n",
    "    for i,(train_index,test_index) in enumerate(kfold.split(y)):\n",
    "        X_train, X_test = X[train_index], X[test_index]\n",
    "        y_train, y_test = y[train_index], y[test_index]\n",
    "\n",
    "        # fit and predict\n",
    "        model.fit(X_train, y_train)\n",
    "        y_pred = model.predict(X_test)\n",
    "        \n",
    "        accuracy[i] = accuracy_score(y_test,y_pred)\n",
    "        #print(accuracy[i])\n",
    "    return accuracy.mean(),accuracy.std()"
   ]
  },
  {
   "cell_type": "code",
   "execution_count": 16,
   "metadata": {},
   "outputs": [
    {
     "name": "stdout",
     "output_type": "stream",
     "text": [
      "('         naive_bayes :', 0.8367283950617284, 0.02064443396072917)\n",
      "(' logistic_regression :', 0.9391975308641974, 0.007722219755059751)\n",
      "('       decision_tree :', 0.942283950617284, 0.006063852686539667)\n",
      "('       random_forest :', 0.9391975308641974, 0.007722219755059751)\n"
     ]
    }
   ],
   "source": [
    "other_methods=['naive_bayes','logistic_regression','decision_tree','random_forest']\n",
    "\n",
    "for i,method in enumerate(other_methods):\n",
    "    accuracy_mean,accuracy_std = ML_inference(X,y,kf,method)\n",
    "    print('% 20s :'%method,accuracy_mean,accuracy_std)"
   ]
  },
  {
   "cell_type": "markdown",
   "metadata": {},
   "source": [
    "## Small sample sizes"
   ]
  },
  {
   "cell_type": "code",
   "execution_count": 17,
   "metadata": {},
   "outputs": [
    {
     "name": "stdout",
     "output_type": "stream",
     "text": [
      "('ER:', 0.9400000000000001, 0.05830951894845301, 0.0)\n",
      "('ER:', 0.9400000000000001, 0.05830951894845301, 0.001)\n",
      "('ER:', 0.9400000000000001, 0.05830951894845301, 0.002)\n",
      "('ER:', 0.9400000000000001, 0.05830951894845301, 0.003)\n",
      "('ER:', 0.9400000000000001, 0.05830951894845301, 0.004)\n",
      "('ER:', 0.9400000000000001, 0.05830951894845301, 0.005)\n",
      "('ER:', 0.9400000000000001, 0.05830951894845301, 0.01)\n",
      "('ER:', 0.9400000000000001, 0.05830951894845301, 0.02)\n",
      "('ER:', 0.9400000000000001, 0.05830951894845301, 0.1)\n",
      "('ER:', 0.9400000000000001, 0.05830951894845301, 0.2)\n",
      "('ER:', 0.9400000000000001, 0.05830951894845301, 0.5)\n",
      "('ER:', 0.9400000000000001, 0.05830951894845301, 0.6)\n",
      "('ER:', 0.9400000000000001, 0.05830951894845301, 0.8)\n",
      "('ER:', 0.9400000000000001, 0.05830951894845301, 1.0)\n"
     ]
    }
   ],
   "source": [
    "l = 100\n",
    "for regu in regu_list:\n",
    "    accuracy_mean,accuracy_std = ER_inference(X[:l,:],y[:l],kf,regu)\n",
    "    print('ER:',accuracy_mean,accuracy_std,regu)"
   ]
  },
  {
   "cell_type": "code",
   "execution_count": 18,
   "metadata": {},
   "outputs": [
    {
     "name": "stdout",
     "output_type": "stream",
     "text": [
      "('         naive_bayes :', 0.8800000000000001, 0.05099019513592783)\n",
      "(' logistic_regression :', 0.89, 0.05830951894845298)\n",
      "('       decision_tree :', 0.9399999999999998, 0.05830951894845301)\n",
      "('       random_forest :', 0.89, 0.05830951894845298)\n"
     ]
    }
   ],
   "source": [
    "for i,method in enumerate(other_methods):\n",
    "    accuracy_mean,accuracy_std = ML_inference(X[:l,:],y[:l],kf,method)\n",
    "    print('% 20s :'%method,accuracy_mean,accuracy_std)"
   ]
  },
  {
   "cell_type": "code",
   "execution_count": 19,
   "metadata": {},
   "outputs": [
    {
     "name": "stdout",
     "output_type": "stream",
     "text": [
      "('ER:', 0.9800000000000001, 0.039999999999999994, 0.0)\n",
      "('ER:', 0.9800000000000001, 0.039999999999999994, 0.001)\n",
      "('ER:', 0.9800000000000001, 0.039999999999999994, 0.002)\n",
      "('ER:', 0.9800000000000001, 0.039999999999999994, 0.003)\n",
      "('ER:', 0.9800000000000001, 0.039999999999999994, 0.004)\n",
      "('ER:', 0.9800000000000001, 0.039999999999999994, 0.005)\n",
      "('ER:', 0.9800000000000001, 0.039999999999999994, 0.01)\n",
      "('ER:', 0.9800000000000001, 0.039999999999999994, 0.02)\n",
      "('ER:', 0.9800000000000001, 0.039999999999999994, 0.1)\n",
      "('ER:', 0.9800000000000001, 0.039999999999999994, 0.2)\n",
      "('ER:', 0.9800000000000001, 0.039999999999999994, 0.5)\n",
      "('ER:', 0.9800000000000001, 0.039999999999999994, 0.6)\n",
      "('ER:', 0.9800000000000001, 0.039999999999999994, 0.8)\n",
      "('ER:', 0.9800000000000001, 0.039999999999999994, 1.0)\n"
     ]
    }
   ],
   "source": [
    "l = 50\n",
    "for regu in regu_list:\n",
    "    accuracy_mean,accuracy_std = ER_inference(X[:l,:],y[:l],kf,regu)\n",
    "    print('ER:',accuracy_mean,accuracy_std,regu)"
   ]
  },
  {
   "cell_type": "code",
   "execution_count": 20,
   "metadata": {},
   "outputs": [
    {
     "name": "stdout",
     "output_type": "stream",
     "text": [
      "('         naive_bayes :', 0.8400000000000001, 0.08000000000000002)\n",
      "(' logistic_regression :', 0.8200000000000001, 0.07483314773547885)\n",
      "('       decision_tree :', 0.9400000000000001, 0.04898979485566354)\n",
      "('       random_forest :', 0.8400000000000001, 0.10198039027185571)\n"
     ]
    }
   ],
   "source": [
    "for i,method in enumerate(other_methods):\n",
    "    accuracy_mean,accuracy_std = ML_inference(X[:l,:],y[:l],kf,method)\n",
    "    print('% 20s :'%method,accuracy_mean,accuracy_std)"
   ]
  },
  {
   "cell_type": "code",
   "execution_count": null,
   "metadata": {},
   "outputs": [],
   "source": []
  }
 ],
 "metadata": {
  "kernelspec": {
   "display_name": "Python 2",
   "language": "python",
   "name": "python2"
  },
  "language_info": {
   "codemirror_mode": {
    "name": "ipython",
    "version": 2
   },
   "file_extension": ".py",
   "mimetype": "text/x-python",
   "name": "python",
   "nbconvert_exporter": "python",
   "pygments_lexer": "ipython2",
   "version": "2.7.16"
  }
 },
 "nbformat": 4,
 "nbformat_minor": 2
}
