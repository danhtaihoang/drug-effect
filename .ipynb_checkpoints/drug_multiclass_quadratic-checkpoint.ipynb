{
 "cells": [
  {
   "cell_type": "code",
   "execution_count": 1,
   "metadata": {},
   "outputs": [],
   "source": [
    "import numpy as np\n",
    "import pandas as pd\n",
    "\n",
    "from sklearn.model_selection import train_test_split\n",
    "from sklearn.model_selection import KFold\n",
    "from sklearn.utils import shuffle\n",
    "from sklearn.metrics import accuracy_score\n",
    "\n",
    "from synthesize_data_multiclass import synthesize_data\n",
    "import ER_multiclass as ER\n",
    "\n",
    "from sklearn.linear_model import LogisticRegression\n",
    "from sklearn.naive_bayes import GaussianNB\n",
    "from sklearn.tree import DecisionTreeClassifier\n",
    "from sklearn.ensemble import RandomForestClassifier\n",
    "\n",
    "import matplotlib.pyplot as plt\n",
    "%matplotlib inline"
   ]
  },
  {
   "cell_type": "code",
   "execution_count": 2,
   "metadata": {},
   "outputs": [],
   "source": [
    "np.random.seed(1)"
   ]
  },
  {
   "cell_type": "code",
   "execution_count": 3,
   "metadata": {},
   "outputs": [
    {
     "data": {
      "text/html": [
       "<div>\n",
       "<style scoped>\n",
       "    .dataframe tbody tr th:only-of-type {\n",
       "        vertical-align: middle;\n",
       "    }\n",
       "\n",
       "    .dataframe tbody tr th {\n",
       "        vertical-align: top;\n",
       "    }\n",
       "\n",
       "    .dataframe thead th {\n",
       "        text-align: right;\n",
       "    }\n",
       "</style>\n",
       "<table border=\"1\" class=\"dataframe\">\n",
       "  <thead>\n",
       "    <tr style=\"text-align: right;\">\n",
       "      <th></th>\n",
       "      <th>SampleID</th>\n",
       "      <th>Fly</th>\n",
       "      <th>Survival</th>\n",
       "      <th>Concentration</th>\n",
       "      <th>Line</th>\n",
       "      <th>Sex</th>\n",
       "      <th>Replicate</th>\n",
       "      <th>Drug</th>\n",
       "      <th>Number</th>\n",
       "    </tr>\n",
       "  </thead>\n",
       "  <tbody>\n",
       "    <tr>\n",
       "      <th>0</th>\n",
       "      <td>1</td>\n",
       "      <td>0.229.Female.1.Trifluroperazine.1</td>\n",
       "      <td>96</td>\n",
       "      <td>0</td>\n",
       "      <td>229</td>\n",
       "      <td>Female</td>\n",
       "      <td>1</td>\n",
       "      <td>Trifluroperazine</td>\n",
       "      <td>1</td>\n",
       "    </tr>\n",
       "    <tr>\n",
       "      <th>1</th>\n",
       "      <td>2</td>\n",
       "      <td>0.229.Female.1.Trifluroperazine.10</td>\n",
       "      <td>96</td>\n",
       "      <td>0</td>\n",
       "      <td>229</td>\n",
       "      <td>Female</td>\n",
       "      <td>1</td>\n",
       "      <td>Trifluroperazine</td>\n",
       "      <td>10</td>\n",
       "    </tr>\n",
       "    <tr>\n",
       "      <th>2</th>\n",
       "      <td>3</td>\n",
       "      <td>0.229.Female.1.Trifluroperazine.11</td>\n",
       "      <td>96</td>\n",
       "      <td>0</td>\n",
       "      <td>229</td>\n",
       "      <td>Female</td>\n",
       "      <td>1</td>\n",
       "      <td>Trifluroperazine</td>\n",
       "      <td>11</td>\n",
       "    </tr>\n",
       "    <tr>\n",
       "      <th>3</th>\n",
       "      <td>4</td>\n",
       "      <td>0.229.Female.1.Trifluroperazine.12</td>\n",
       "      <td>96</td>\n",
       "      <td>0</td>\n",
       "      <td>229</td>\n",
       "      <td>Female</td>\n",
       "      <td>1</td>\n",
       "      <td>Trifluroperazine</td>\n",
       "      <td>12</td>\n",
       "    </tr>\n",
       "    <tr>\n",
       "      <th>4</th>\n",
       "      <td>5</td>\n",
       "      <td>0.229.Female.1.Trifluroperazine.13</td>\n",
       "      <td>96</td>\n",
       "      <td>0</td>\n",
       "      <td>229</td>\n",
       "      <td>Female</td>\n",
       "      <td>1</td>\n",
       "      <td>Trifluroperazine</td>\n",
       "      <td>13</td>\n",
       "    </tr>\n",
       "  </tbody>\n",
       "</table>\n",
       "</div>"
      ],
      "text/plain": [
       "   SampleID                                 Fly  Survival Concentration  Line  \\\n",
       "0         1   0.229.Female.1.Trifluroperazine.1        96             0   229   \n",
       "1         2  0.229.Female.1.Trifluroperazine.10        96             0   229   \n",
       "2         3  0.229.Female.1.Trifluroperazine.11        96             0   229   \n",
       "3         4  0.229.Female.1.Trifluroperazine.12        96             0   229   \n",
       "4         5  0.229.Female.1.Trifluroperazine.13        96             0   229   \n",
       "\n",
       "      Sex  Replicate              Drug  Number  \n",
       "0  Female          1  Trifluroperazine       1  \n",
       "1  Female          1  Trifluroperazine      10  \n",
       "2  Female          1  Trifluroperazine      11  \n",
       "3  Female          1  Trifluroperazine      12  \n",
       "4  Female          1  Trifluroperazine      13  "
      ]
     },
     "execution_count": 3,
     "metadata": {},
     "output_type": "execute_result"
    }
   ],
   "source": [
    "# load data\n",
    "df = pd.read_csv('../drug_data.csv')\n",
    "df.head()"
   ]
  },
  {
   "cell_type": "code",
   "execution_count": 4,
   "metadata": {},
   "outputs": [
    {
     "data": {
      "text/html": [
       "<div>\n",
       "<style scoped>\n",
       "    .dataframe tbody tr th:only-of-type {\n",
       "        vertical-align: middle;\n",
       "    }\n",
       "\n",
       "    .dataframe tbody tr th {\n",
       "        vertical-align: top;\n",
       "    }\n",
       "\n",
       "    .dataframe thead th {\n",
       "        text-align: right;\n",
       "    }\n",
       "</style>\n",
       "<table border=\"1\" class=\"dataframe\">\n",
       "  <thead>\n",
       "    <tr style=\"text-align: right;\">\n",
       "      <th></th>\n",
       "      <th>Concentration</th>\n",
       "      <th>Line</th>\n",
       "      <th>Sex</th>\n",
       "      <th>Replicate</th>\n",
       "      <th>Drug</th>\n",
       "      <th>Number</th>\n",
       "      <th>Survival</th>\n",
       "    </tr>\n",
       "  </thead>\n",
       "  <tbody>\n",
       "    <tr>\n",
       "      <th>0</th>\n",
       "      <td>0</td>\n",
       "      <td>229</td>\n",
       "      <td>Female</td>\n",
       "      <td>1</td>\n",
       "      <td>Trifluroperazine</td>\n",
       "      <td>1</td>\n",
       "      <td>96</td>\n",
       "    </tr>\n",
       "    <tr>\n",
       "      <th>1</th>\n",
       "      <td>0</td>\n",
       "      <td>229</td>\n",
       "      <td>Female</td>\n",
       "      <td>1</td>\n",
       "      <td>Trifluroperazine</td>\n",
       "      <td>10</td>\n",
       "      <td>96</td>\n",
       "    </tr>\n",
       "    <tr>\n",
       "      <th>2</th>\n",
       "      <td>0</td>\n",
       "      <td>229</td>\n",
       "      <td>Female</td>\n",
       "      <td>1</td>\n",
       "      <td>Trifluroperazine</td>\n",
       "      <td>11</td>\n",
       "      <td>96</td>\n",
       "    </tr>\n",
       "    <tr>\n",
       "      <th>3</th>\n",
       "      <td>0</td>\n",
       "      <td>229</td>\n",
       "      <td>Female</td>\n",
       "      <td>1</td>\n",
       "      <td>Trifluroperazine</td>\n",
       "      <td>12</td>\n",
       "      <td>96</td>\n",
       "    </tr>\n",
       "    <tr>\n",
       "      <th>4</th>\n",
       "      <td>0</td>\n",
       "      <td>229</td>\n",
       "      <td>Female</td>\n",
       "      <td>1</td>\n",
       "      <td>Trifluroperazine</td>\n",
       "      <td>13</td>\n",
       "      <td>96</td>\n",
       "    </tr>\n",
       "  </tbody>\n",
       "</table>\n",
       "</div>"
      ],
      "text/plain": [
       "  Concentration  Line     Sex  Replicate              Drug  Number  Survival\n",
       "0             0   229  Female          1  Trifluroperazine       1        96\n",
       "1             0   229  Female          1  Trifluroperazine      10        96\n",
       "2             0   229  Female          1  Trifluroperazine      11        96\n",
       "3             0   229  Female          1  Trifluroperazine      12        96\n",
       "4             0   229  Female          1  Trifluroperazine      13        96"
      ]
     },
     "execution_count": 4,
     "metadata": {},
     "output_type": "execute_result"
    }
   ],
   "source": [
    "df = df.drop(['SampleID','Fly'],axis=1)\n",
    "df1 = df.pop('Survival') # remove column diagnosis and store it in df1\n",
    "df['Survival'] = df1 # add df1 to df as a 'new' column\n",
    "df.head()"
   ]
  },
  {
   "cell_type": "code",
   "execution_count": 5,
   "metadata": {},
   "outputs": [],
   "source": [
    "# select features and target:\n",
    "df = np.array(df)\n",
    "\n",
    "# features:\n",
    "X = df[:,:-1]\n",
    "l,n = X.shape\n",
    "#print(l,n)\n",
    "\n",
    "# target:\n",
    "y = df[:,-1].astype(float)"
   ]
  },
  {
   "cell_type": "markdown",
   "metadata": {},
   "source": [
    "### Clean data"
   ]
  },
  {
   "cell_type": "code",
   "execution_count": 6,
   "metadata": {},
   "outputs": [],
   "source": [
    "from sklearn.preprocessing import OneHotEncoder\n",
    "onehot_encoder = OneHotEncoder(sparse=False,categories='auto')\n",
    "\n",
    "# Concentration\n",
    "x0 = X[:,0]\n",
    "#print(np.unique(x0))\n",
    "x0[np.where(x0=='12_5')] = 12.5\n",
    "#print(np.unique(x0))\n",
    "x0 = x0.astype(float)\n",
    "#print(np.unique(x0))\n",
    "\n",
    "# line = X[:,1] = {229,703,900} --> 3\n",
    "x1 = onehot_encoder.fit_transform(X[:,1].reshape(-1,1))\n",
    "\n",
    "# sex = X[:,2] = {Female,Male} --> 2\n",
    "#x2 = onehot_encoder.fit_transform(X[:,2].reshape(-1,1))\n",
    "x2 = np.ones(l)\n",
    "x2[X[:,2] == 'Female'] = -1.\n",
    "\n",
    "\n",
    "# Replicate\n",
    "x3 = X[:,3]\n",
    "#print(np.unique(x3))\n",
    "x3 = x3.astype(float)\n",
    "#print(np.unique(x3))\n",
    "\n",
    "# Drug = X[:,4] = {Trifluroperazine,Cdcl2} --> 2\n",
    "#x4 = onehot_encoder.fit_transform(X[:,4].reshape(-1,1))\n",
    "x4 = np.ones(l)\n",
    "x4[X[:,4] == 'Trifluroperazine'] = -1.\n",
    "\n",
    "# Number\n",
    "x5 = X[:,5]\n",
    "#print(np.unique(x5))\n",
    "x5 = x5.astype(float)\n",
    "#print(np.unique(x5))"
   ]
  },
  {
   "cell_type": "code",
   "execution_count": 7,
   "metadata": {},
   "outputs": [
    {
     "data": {
      "text/plain": [
       "(3240, 7)"
      ]
     },
     "execution_count": 7,
     "metadata": {},
     "output_type": "execute_result"
    }
   ],
   "source": [
    "# Combine every variables\n",
    "Xnew = np.hstack([x0[:,np.newaxis],x1])\n",
    "Xnew = np.hstack([Xnew,x2[:,np.newaxis]])\n",
    "Xnew = np.hstack([Xnew,x3[:,np.newaxis]])\n",
    "Xnew = np.hstack([Xnew,x4[:,np.newaxis]])\n",
    "#Xnew = np.hstack([Xnew,x5[:,np.newaxis]])\n",
    "\n",
    "Xnew.shape"
   ]
  },
  {
   "cell_type": "code",
   "execution_count": 8,
   "metadata": {},
   "outputs": [],
   "source": [
    "X = Xnew"
   ]
  },
  {
   "cell_type": "code",
   "execution_count": 9,
   "metadata": {},
   "outputs": [
    {
     "data": {
      "text/plain": [
       "(array([ 0., 16., 24., 48., 72., 96.]),\n",
       " array([  25,   25,  664,  829,  192, 1505]))"
      ]
     },
     "execution_count": 9,
     "metadata": {},
     "output_type": "execute_result"
    }
   ],
   "source": [
    "np.unique(y, return_counts=True)"
   ]
  },
  {
   "cell_type": "code",
   "execution_count": 10,
   "metadata": {},
   "outputs": [],
   "source": [
    "# We devide y into 3 classes: 0,16,24 --> 0; 48,72 --> 2 ; 96 --> 3\n",
    "l,n = X.shape\n",
    "ynew = np.zeros(l)\n",
    "\n",
    "for t in range(l):\n",
    "    if y[t] <= 24: \n",
    "        ynew[t] = 0.\n",
    "    elif y[t] == 96: \n",
    "        ynew[t] = 2.\n",
    "    else:\n",
    "        ynew[t] = 1.        "
   ]
  },
  {
   "cell_type": "code",
   "execution_count": 11,
   "metadata": {},
   "outputs": [
    {
     "data": {
      "text/plain": [
       "array([2., 2., 2., ..., 0., 0., 0.])"
      ]
     },
     "execution_count": 11,
     "metadata": {},
     "output_type": "execute_result"
    }
   ],
   "source": [
    "y = ynew\n",
    "y"
   ]
  },
  {
   "cell_type": "code",
   "execution_count": 12,
   "metadata": {},
   "outputs": [],
   "source": [
    "# create quadratic terms\n",
    "xij = np.zeros((l,int(n*(n-1)/2)))\n",
    "k = 0\n",
    "for i in range(n-1):\n",
    "    for j in range(i+1,n):        \n",
    "        xij[:,k] = X[:,i]*X[:,j]\n",
    "        k += 1"
   ]
  },
  {
   "cell_type": "code",
   "execution_count": 13,
   "metadata": {},
   "outputs": [],
   "source": [
    "# compile the quadratic terms into X\n",
    "X = np.hstack([X,xij])"
   ]
  },
  {
   "cell_type": "code",
   "execution_count": 14,
   "metadata": {},
   "outputs": [
    {
     "data": {
      "text/plain": [
       "(3240, 28)"
      ]
     },
     "execution_count": 14,
     "metadata": {},
     "output_type": "execute_result"
    }
   ],
   "source": [
    "X.shape"
   ]
  },
  {
   "cell_type": "code",
   "execution_count": 15,
   "metadata": {},
   "outputs": [],
   "source": [
    "#from sklearn.preprocessing import OneHotEncoder\n",
    "#onehot_encoder = OneHotEncoder(sparse=False,categories='auto')\n",
    "#y_onehot = onehot_encoder.fit_transform(y.reshape(-1,1))\n",
    "#y_onehot"
   ]
  },
  {
   "cell_type": "markdown",
   "metadata": {},
   "source": [
    "### Shuffle data"
   ]
  },
  {
   "cell_type": "code",
   "execution_count": 16,
   "metadata": {},
   "outputs": [],
   "source": [
    "from sklearn.utils import shuffle\n",
    "X, y = shuffle(X, y)"
   ]
  },
  {
   "cell_type": "code",
   "execution_count": 17,
   "metadata": {},
   "outputs": [],
   "source": [
    "from sklearn.preprocessing import MinMaxScaler\n",
    "X = MinMaxScaler().fit_transform(X)"
   ]
  },
  {
   "cell_type": "code",
   "execution_count": 18,
   "metadata": {},
   "outputs": [],
   "source": [
    "def inference(X_train,y_train,X_test,y_test,method='expectation_reflection'):\n",
    "    if method == 'expectation_reflection':\n",
    "        h0,w = ER.fit(X_train,y_train,niter_max=100,regu=0.)\n",
    "        y_pred = ER.predict(X_test,h0,w)\n",
    "\n",
    "    else:\n",
    "        if method == 'logistic_regression':\n",
    "            model = LogisticRegression(multi_class='multinomial',solver='saga')\n",
    "\n",
    "        if method == 'naive_bayes': \n",
    "            model = GaussianNB()\n",
    "\n",
    "        if method == 'random_forest':\n",
    "            model = RandomForestClassifier(criterion = \"gini\", random_state = 1,\n",
    "                           max_depth=3, min_samples_leaf=5,n_estimators=100)   \n",
    "            \n",
    "        if method == 'decision_tree':\n",
    "            model = DecisionTreeClassifier()  \n",
    "\n",
    "        model.fit(X_train, y_train)\n",
    "        y_pred = model.predict(X_test)\n",
    "        \n",
    "    accuracy = accuracy_score(y_test,y_pred)                \n",
    "                  \n",
    "    return accuracy"
   ]
  },
  {
   "cell_type": "code",
   "execution_count": 19,
   "metadata": {},
   "outputs": [],
   "source": [
    "def compare_inference(X,y,train_size):\n",
    "    npred = 100\n",
    "    accuracy = np.zeros((len(list_methods),npred))\n",
    "    precision = np.zeros((len(list_methods),npred))\n",
    "    recall = np.zeros((len(list_methods),npred))\n",
    "    accuracy_train = np.zeros((len(list_methods),npred))\n",
    "    for ipred in range(npred):\n",
    "        #X, y = shuffle(X, y)\n",
    "        X_train0,X_test,y_train0,y_test = train_test_split(X,y,test_size=0.2,random_state = ipred)\n",
    "\n",
    "        idx_train = np.random.choice(len(y_train0),size=int(train_size*len(y)),replace=False)\n",
    "        X_train,y_train = X_train0[idx_train],y_train0[idx_train]\n",
    "\n",
    "        for i,method in enumerate(list_methods):\n",
    "            accuracy[i,ipred] = inference(X_train,y_train,X_test,y_test,method)\n",
    "            \n",
    "    return accuracy.mean(axis=1),accuracy.std(axis=1)"
   ]
  },
  {
   "cell_type": "code",
   "execution_count": 20,
   "metadata": {},
   "outputs": [
    {
     "name": "stdout",
     "output_type": "stream",
     "text": [
      "0.8 [0.83489198 0.83134259 0.8400463  0.83949074]\n",
      "0.6 [0.83615741 0.83106481 0.8395679  0.83915123]\n",
      "0.4 [0.83692901 0.82814815 0.83876543 0.83810185]\n"
     ]
    },
    {
     "name": "stderr",
     "output_type": "stream",
     "text": [
      "/home/tai/anaconda3/lib/python3.7/site-packages/sklearn/linear_model/sag.py:334: ConvergenceWarning: The max_iter was reached which means the coef_ did not converge\n",
      "  \"the coef_ did not converge\", ConvergenceWarning)\n",
      "/home/tai/anaconda3/lib/python3.7/site-packages/sklearn/linear_model/sag.py:334: ConvergenceWarning: The max_iter was reached which means the coef_ did not converge\n",
      "  \"the coef_ did not converge\", ConvergenceWarning)\n",
      "/home/tai/anaconda3/lib/python3.7/site-packages/sklearn/linear_model/sag.py:334: ConvergenceWarning: The max_iter was reached which means the coef_ did not converge\n",
      "  \"the coef_ did not converge\", ConvergenceWarning)\n",
      "/home/tai/anaconda3/lib/python3.7/site-packages/sklearn/linear_model/sag.py:334: ConvergenceWarning: The max_iter was reached which means the coef_ did not converge\n",
      "  \"the coef_ did not converge\", ConvergenceWarning)\n",
      "/home/tai/anaconda3/lib/python3.7/site-packages/sklearn/linear_model/sag.py:334: ConvergenceWarning: The max_iter was reached which means the coef_ did not converge\n",
      "  \"the coef_ did not converge\", ConvergenceWarning)\n",
      "/home/tai/anaconda3/lib/python3.7/site-packages/sklearn/linear_model/sag.py:334: ConvergenceWarning: The max_iter was reached which means the coef_ did not converge\n",
      "  \"the coef_ did not converge\", ConvergenceWarning)\n",
      "/home/tai/anaconda3/lib/python3.7/site-packages/sklearn/linear_model/sag.py:334: ConvergenceWarning: The max_iter was reached which means the coef_ did not converge\n",
      "  \"the coef_ did not converge\", ConvergenceWarning)\n",
      "/home/tai/anaconda3/lib/python3.7/site-packages/sklearn/linear_model/sag.py:334: ConvergenceWarning: The max_iter was reached which means the coef_ did not converge\n",
      "  \"the coef_ did not converge\", ConvergenceWarning)\n",
      "/home/tai/anaconda3/lib/python3.7/site-packages/sklearn/linear_model/sag.py:334: ConvergenceWarning: The max_iter was reached which means the coef_ did not converge\n",
      "  \"the coef_ did not converge\", ConvergenceWarning)\n",
      "/home/tai/anaconda3/lib/python3.7/site-packages/sklearn/linear_model/sag.py:334: ConvergenceWarning: The max_iter was reached which means the coef_ did not converge\n",
      "  \"the coef_ did not converge\", ConvergenceWarning)\n",
      "/home/tai/anaconda3/lib/python3.7/site-packages/sklearn/linear_model/sag.py:334: ConvergenceWarning: The max_iter was reached which means the coef_ did not converge\n",
      "  \"the coef_ did not converge\", ConvergenceWarning)\n",
      "/home/tai/anaconda3/lib/python3.7/site-packages/sklearn/linear_model/sag.py:334: ConvergenceWarning: The max_iter was reached which means the coef_ did not converge\n",
      "  \"the coef_ did not converge\", ConvergenceWarning)\n",
      "/home/tai/anaconda3/lib/python3.7/site-packages/sklearn/linear_model/sag.py:334: ConvergenceWarning: The max_iter was reached which means the coef_ did not converge\n",
      "  \"the coef_ did not converge\", ConvergenceWarning)\n",
      "/home/tai/anaconda3/lib/python3.7/site-packages/sklearn/linear_model/sag.py:334: ConvergenceWarning: The max_iter was reached which means the coef_ did not converge\n",
      "  \"the coef_ did not converge\", ConvergenceWarning)\n",
      "/home/tai/anaconda3/lib/python3.7/site-packages/sklearn/linear_model/sag.py:334: ConvergenceWarning: The max_iter was reached which means the coef_ did not converge\n",
      "  \"the coef_ did not converge\", ConvergenceWarning)\n",
      "/home/tai/anaconda3/lib/python3.7/site-packages/sklearn/linear_model/sag.py:334: ConvergenceWarning: The max_iter was reached which means the coef_ did not converge\n",
      "  \"the coef_ did not converge\", ConvergenceWarning)\n",
      "/home/tai/anaconda3/lib/python3.7/site-packages/sklearn/linear_model/sag.py:334: ConvergenceWarning: The max_iter was reached which means the coef_ did not converge\n",
      "  \"the coef_ did not converge\", ConvergenceWarning)\n",
      "/home/tai/anaconda3/lib/python3.7/site-packages/sklearn/linear_model/sag.py:334: ConvergenceWarning: The max_iter was reached which means the coef_ did not converge\n",
      "  \"the coef_ did not converge\", ConvergenceWarning)\n",
      "/home/tai/anaconda3/lib/python3.7/site-packages/sklearn/linear_model/sag.py:334: ConvergenceWarning: The max_iter was reached which means the coef_ did not converge\n",
      "  \"the coef_ did not converge\", ConvergenceWarning)\n",
      "/home/tai/anaconda3/lib/python3.7/site-packages/sklearn/linear_model/sag.py:334: ConvergenceWarning: The max_iter was reached which means the coef_ did not converge\n",
      "  \"the coef_ did not converge\", ConvergenceWarning)\n",
      "/home/tai/anaconda3/lib/python3.7/site-packages/sklearn/linear_model/sag.py:334: ConvergenceWarning: The max_iter was reached which means the coef_ did not converge\n",
      "  \"the coef_ did not converge\", ConvergenceWarning)\n",
      "/home/tai/anaconda3/lib/python3.7/site-packages/sklearn/linear_model/sag.py:334: ConvergenceWarning: The max_iter was reached which means the coef_ did not converge\n",
      "  \"the coef_ did not converge\", ConvergenceWarning)\n",
      "/home/tai/anaconda3/lib/python3.7/site-packages/sklearn/linear_model/sag.py:334: ConvergenceWarning: The max_iter was reached which means the coef_ did not converge\n",
      "  \"the coef_ did not converge\", ConvergenceWarning)\n",
      "/home/tai/anaconda3/lib/python3.7/site-packages/sklearn/linear_model/sag.py:334: ConvergenceWarning: The max_iter was reached which means the coef_ did not converge\n",
      "  \"the coef_ did not converge\", ConvergenceWarning)\n",
      "/home/tai/anaconda3/lib/python3.7/site-packages/sklearn/linear_model/sag.py:334: ConvergenceWarning: The max_iter was reached which means the coef_ did not converge\n",
      "  \"the coef_ did not converge\", ConvergenceWarning)\n",
      "/home/tai/anaconda3/lib/python3.7/site-packages/sklearn/linear_model/sag.py:334: ConvergenceWarning: The max_iter was reached which means the coef_ did not converge\n",
      "  \"the coef_ did not converge\", ConvergenceWarning)\n",
      "/home/tai/anaconda3/lib/python3.7/site-packages/sklearn/linear_model/sag.py:334: ConvergenceWarning: The max_iter was reached which means the coef_ did not converge\n",
      "  \"the coef_ did not converge\", ConvergenceWarning)\n",
      "/home/tai/anaconda3/lib/python3.7/site-packages/sklearn/linear_model/sag.py:334: ConvergenceWarning: The max_iter was reached which means the coef_ did not converge\n",
      "  \"the coef_ did not converge\", ConvergenceWarning)\n",
      "/home/tai/anaconda3/lib/python3.7/site-packages/sklearn/linear_model/sag.py:334: ConvergenceWarning: The max_iter was reached which means the coef_ did not converge\n",
      "  \"the coef_ did not converge\", ConvergenceWarning)\n",
      "/home/tai/anaconda3/lib/python3.7/site-packages/sklearn/linear_model/sag.py:334: ConvergenceWarning: The max_iter was reached which means the coef_ did not converge\n",
      "  \"the coef_ did not converge\", ConvergenceWarning)\n",
      "/home/tai/anaconda3/lib/python3.7/site-packages/sklearn/linear_model/sag.py:334: ConvergenceWarning: The max_iter was reached which means the coef_ did not converge\n",
      "  \"the coef_ did not converge\", ConvergenceWarning)\n",
      "/home/tai/anaconda3/lib/python3.7/site-packages/sklearn/linear_model/sag.py:334: ConvergenceWarning: The max_iter was reached which means the coef_ did not converge\n",
      "  \"the coef_ did not converge\", ConvergenceWarning)\n",
      "/home/tai/anaconda3/lib/python3.7/site-packages/sklearn/linear_model/sag.py:334: ConvergenceWarning: The max_iter was reached which means the coef_ did not converge\n",
      "  \"the coef_ did not converge\", ConvergenceWarning)\n",
      "/home/tai/anaconda3/lib/python3.7/site-packages/sklearn/linear_model/sag.py:334: ConvergenceWarning: The max_iter was reached which means the coef_ did not converge\n",
      "  \"the coef_ did not converge\", ConvergenceWarning)\n"
     ]
    },
    {
     "name": "stdout",
     "output_type": "stream",
     "text": [
      "0.2 [0.83516975 0.81919753 0.83223765 0.83365741]\n"
     ]
    }
   ],
   "source": [
    "list_train_size = [0.8,0.6,0.4,0.2]\n",
    "list_methods=['logistic_regression','naive_bayes','random_forest','expectation_reflection']\n",
    "acc = np.zeros((len(list_train_size),len(list_methods)))\n",
    "acc_std = np.zeros((len(list_train_size),len(list_methods)))\n",
    "for i,train_size in enumerate(list_train_size):\n",
    "    acc[i,:],acc_std[i,:] = compare_inference(X,y,train_size)\n",
    "    print(train_size,acc[i,:])"
   ]
  },
  {
   "cell_type": "code",
   "execution_count": 21,
   "metadata": {},
   "outputs": [
    {
     "data": {
      "text/html": [
       "<div>\n",
       "<style scoped>\n",
       "    .dataframe tbody tr th:only-of-type {\n",
       "        vertical-align: middle;\n",
       "    }\n",
       "\n",
       "    .dataframe tbody tr th {\n",
       "        vertical-align: top;\n",
       "    }\n",
       "\n",
       "    .dataframe thead th {\n",
       "        text-align: right;\n",
       "    }\n",
       "</style>\n",
       "<table border=\"1\" class=\"dataframe\">\n",
       "  <thead>\n",
       "    <tr style=\"text-align: right;\">\n",
       "      <th></th>\n",
       "      <th>train_size</th>\n",
       "      <th>logistic_regression</th>\n",
       "      <th>naive_bayes</th>\n",
       "      <th>random_forest</th>\n",
       "      <th>expectation_reflection</th>\n",
       "    </tr>\n",
       "  </thead>\n",
       "  <tbody>\n",
       "    <tr>\n",
       "      <th>0</th>\n",
       "      <td>0.8</td>\n",
       "      <td>0.834892</td>\n",
       "      <td>0.831343</td>\n",
       "      <td>0.840046</td>\n",
       "      <td>0.839491</td>\n",
       "    </tr>\n",
       "    <tr>\n",
       "      <th>1</th>\n",
       "      <td>0.6</td>\n",
       "      <td>0.836157</td>\n",
       "      <td>0.831065</td>\n",
       "      <td>0.839568</td>\n",
       "      <td>0.839151</td>\n",
       "    </tr>\n",
       "    <tr>\n",
       "      <th>2</th>\n",
       "      <td>0.4</td>\n",
       "      <td>0.836929</td>\n",
       "      <td>0.828148</td>\n",
       "      <td>0.838765</td>\n",
       "      <td>0.838102</td>\n",
       "    </tr>\n",
       "    <tr>\n",
       "      <th>3</th>\n",
       "      <td>0.2</td>\n",
       "      <td>0.835170</td>\n",
       "      <td>0.819198</td>\n",
       "      <td>0.832238</td>\n",
       "      <td>0.833657</td>\n",
       "    </tr>\n",
       "  </tbody>\n",
       "</table>\n",
       "</div>"
      ],
      "text/plain": [
       "   train_size  logistic_regression  naive_bayes  random_forest  \\\n",
       "0         0.8             0.834892     0.831343       0.840046   \n",
       "1         0.6             0.836157     0.831065       0.839568   \n",
       "2         0.4             0.836929     0.828148       0.838765   \n",
       "3         0.2             0.835170     0.819198       0.832238   \n",
       "\n",
       "   expectation_reflection  \n",
       "0                0.839491  \n",
       "1                0.839151  \n",
       "2                0.838102  \n",
       "3                0.833657  "
      ]
     },
     "execution_count": 21,
     "metadata": {},
     "output_type": "execute_result"
    }
   ],
   "source": [
    "df = pd.DataFrame(acc,columns = list_methods)\n",
    "df.insert(0, \"train_size\",list_train_size, True)\n",
    "df"
   ]
  },
  {
   "cell_type": "code",
   "execution_count": 22,
   "metadata": {},
   "outputs": [
    {
     "data": {
      "text/plain": [
       "<matplotlib.legend.Legend at 0x7fa0cc11c470>"
      ]
     },
     "execution_count": 22,
     "metadata": {},
     "output_type": "execute_result"
    },
    {
     "data": {
      "image/png": "[encoded data removed]",
      "text/plain": [
       "<Figure size 288x216 with 1 Axes>"
      ]
     },
     "metadata": {
      "needs_background": "light"
     },
     "output_type": "display_data"
    }
   ],
   "source": [
    "plt.figure(figsize=(4,3))    \n",
    "plt.plot(list_train_size,acc[:,0],'k--',marker='o',mfc='none',label='Logistic Regression')\n",
    "plt.plot(list_train_size,acc[:,1],'b--',marker='s',mfc='none',label='Naive Bayes')\n",
    "plt.plot(list_train_size,acc[:,2],'r--',marker='^',mfc='none',label='Random Forest')\n",
    "#plt.plot(list_train_size,acc[:,3],'b--',label='Decision Tree')\n",
    "plt.plot(list_train_size,acc[:,-1],'k-',marker='o',label='Expectation Reflection')\n",
    "plt.xlabel('train size')\n",
    "plt.ylabel('accuracy mean')\n",
    "plt.legend()"
   ]
  },
  {
   "cell_type": "code",
   "execution_count": 23,
   "metadata": {},
   "outputs": [
    {
     "data": {
      "text/plain": [
       "<matplotlib.legend.Legend at 0x7fa0cc039cf8>"
      ]
     },
     "execution_count": 23,
     "metadata": {},
     "output_type": "execute_result"
    },
    {
     "data": {
      "image/png": "[encoded data removed]",
      "text/plain": [
       "<Figure size 288x216 with 1 Axes>"
      ]
     },
     "metadata": {
      "needs_background": "light"
     },
     "output_type": "display_data"
    }
   ],
   "source": [
    "plt.figure(figsize=(4,3))    \n",
    "plt.plot(list_train_size,acc_std[:,0],'k--',marker='o',mfc='none',label='Logistic Regression')\n",
    "plt.plot(list_train_size,acc_std[:,1],'b--',marker='s',mfc='none',label='Naive Bayes')\n",
    "plt.plot(list_train_size,acc_std[:,2],'r--',marker='^',mfc='none',label='Random Forest')\n",
    "#plt.plot(list_train_size,acc_std[:,3],'b--',label='Decision Tree')\n",
    "plt.plot(list_train_size,acc_std[:,-1],'k-',marker='o',label='Expectation Reflection')\n",
    "plt.xlabel('train size')\n",
    "plt.ylabel('accuracy standard deviation')\n",
    "plt.legend()"
   ]
  },
  {
   "cell_type": "code",
   "execution_count": null,
   "metadata": {},
   "outputs": [],
   "source": []
  }
 ],
 "metadata": {
  "kernelspec": {
   "display_name": "Python 3",
   "language": "python",
   "name": "python3"
  },
  "language_info": {
   "codemirror_mode": {
    "name": "ipython",
    "version": 3
   },
   "file_extension": ".py",
   "mimetype": "text/x-python",
   "name": "python",
   "nbconvert_exporter": "python",
   "pygments_lexer": "ipython3",
   "version": "3.7.3"
  }
 },
 "nbformat": 4,
 "nbformat_minor": 2
}
