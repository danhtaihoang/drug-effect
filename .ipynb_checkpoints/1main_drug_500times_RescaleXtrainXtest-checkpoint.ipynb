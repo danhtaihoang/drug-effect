{
 "cells": [
  {
   "cell_type": "markdown",
   "metadata": {},
   "source": [
    "## Drug Effect"
   ]
  },
  {
   "cell_type": "code",
   "execution_count": 1,
   "metadata": {},
   "outputs": [],
   "source": [
    "import numpy as np\n",
    "import pandas as pd\n",
    "\n",
    "from sklearn.model_selection import train_test_split\n",
    "from sklearn.model_selection import KFold\n",
    "from sklearn.metrics import accuracy_score\n",
    "\n",
    "import expectation_reflection as ER\n",
    "\n",
    "import matplotlib.pyplot as plt\n",
    "%matplotlib inline"
   ]
  },
  {
   "cell_type": "code",
   "execution_count": 2,
   "metadata": {},
   "outputs": [],
   "source": [
    "np.random.seed(1)"
   ]
  },
  {
   "cell_type": "code",
   "execution_count": 3,
   "metadata": {
    "scrolled": true
   },
   "outputs": [
    {
     "data": {
      "text/html": [
       "<div>\n",
       "<style scoped>\n",
       "    .dataframe tbody tr th:only-of-type {\n",
       "        vertical-align: middle;\n",
       "    }\n",
       "\n",
       "    .dataframe tbody tr th {\n",
       "        vertical-align: top;\n",
       "    }\n",
       "\n",
       "    .dataframe thead th {\n",
       "        text-align: right;\n",
       "    }\n",
       "</style>\n",
       "<table border=\"1\" class=\"dataframe\">\n",
       "  <thead>\n",
       "    <tr style=\"text-align: right;\">\n",
       "      <th></th>\n",
       "      <th>SampleID</th>\n",
       "      <th>Fly</th>\n",
       "      <th>Survival</th>\n",
       "      <th>Concentration</th>\n",
       "      <th>Line</th>\n",
       "      <th>Sex</th>\n",
       "      <th>Replicate</th>\n",
       "      <th>Drug</th>\n",
       "      <th>Number</th>\n",
       "    </tr>\n",
       "  </thead>\n",
       "  <tbody>\n",
       "    <tr>\n",
       "      <th>0</th>\n",
       "      <td>1</td>\n",
       "      <td>0.229.Female.1.Trifluroperazine.1</td>\n",
       "      <td>96</td>\n",
       "      <td>0</td>\n",
       "      <td>229</td>\n",
       "      <td>Female</td>\n",
       "      <td>1</td>\n",
       "      <td>Trifluroperazine</td>\n",
       "      <td>1</td>\n",
       "    </tr>\n",
       "    <tr>\n",
       "      <th>1</th>\n",
       "      <td>2</td>\n",
       "      <td>0.229.Female.1.Trifluroperazine.10</td>\n",
       "      <td>96</td>\n",
       "      <td>0</td>\n",
       "      <td>229</td>\n",
       "      <td>Female</td>\n",
       "      <td>1</td>\n",
       "      <td>Trifluroperazine</td>\n",
       "      <td>10</td>\n",
       "    </tr>\n",
       "    <tr>\n",
       "      <th>2</th>\n",
       "      <td>3</td>\n",
       "      <td>0.229.Female.1.Trifluroperazine.11</td>\n",
       "      <td>96</td>\n",
       "      <td>0</td>\n",
       "      <td>229</td>\n",
       "      <td>Female</td>\n",
       "      <td>1</td>\n",
       "      <td>Trifluroperazine</td>\n",
       "      <td>11</td>\n",
       "    </tr>\n",
       "    <tr>\n",
       "      <th>3</th>\n",
       "      <td>4</td>\n",
       "      <td>0.229.Female.1.Trifluroperazine.12</td>\n",
       "      <td>96</td>\n",
       "      <td>0</td>\n",
       "      <td>229</td>\n",
       "      <td>Female</td>\n",
       "      <td>1</td>\n",
       "      <td>Trifluroperazine</td>\n",
       "      <td>12</td>\n",
       "    </tr>\n",
       "    <tr>\n",
       "      <th>4</th>\n",
       "      <td>5</td>\n",
       "      <td>0.229.Female.1.Trifluroperazine.13</td>\n",
       "      <td>96</td>\n",
       "      <td>0</td>\n",
       "      <td>229</td>\n",
       "      <td>Female</td>\n",
       "      <td>1</td>\n",
       "      <td>Trifluroperazine</td>\n",
       "      <td>13</td>\n",
       "    </tr>\n",
       "  </tbody>\n",
       "</table>\n",
       "</div>"
      ],
      "text/plain": [
       "   SampleID                                 Fly  Survival Concentration  Line  \\\n",
       "0         1   0.229.Female.1.Trifluroperazine.1        96             0   229   \n",
       "1         2  0.229.Female.1.Trifluroperazine.10        96             0   229   \n",
       "2         3  0.229.Female.1.Trifluroperazine.11        96             0   229   \n",
       "3         4  0.229.Female.1.Trifluroperazine.12        96             0   229   \n",
       "4         5  0.229.Female.1.Trifluroperazine.13        96             0   229   \n",
       "\n",
       "      Sex  Replicate              Drug  Number  \n",
       "0  Female          1  Trifluroperazine       1  \n",
       "1  Female          1  Trifluroperazine      10  \n",
       "2  Female          1  Trifluroperazine      11  \n",
       "3  Female          1  Trifluroperazine      12  \n",
       "4  Female          1  Trifluroperazine      13  "
      ]
     },
     "execution_count": 3,
     "metadata": {},
     "output_type": "execute_result"
    }
   ],
   "source": [
    "# load data\n",
    "df = pd.read_csv('../drug_data.csv')\n",
    "df.head()"
   ]
  },
  {
   "cell_type": "code",
   "execution_count": 4,
   "metadata": {},
   "outputs": [
    {
     "data": {
      "text/html": [
       "<div>\n",
       "<style scoped>\n",
       "    .dataframe tbody tr th:only-of-type {\n",
       "        vertical-align: middle;\n",
       "    }\n",
       "\n",
       "    .dataframe tbody tr th {\n",
       "        vertical-align: top;\n",
       "    }\n",
       "\n",
       "    .dataframe thead th {\n",
       "        text-align: right;\n",
       "    }\n",
       "</style>\n",
       "<table border=\"1\" class=\"dataframe\">\n",
       "  <thead>\n",
       "    <tr style=\"text-align: right;\">\n",
       "      <th></th>\n",
       "      <th>Concentration</th>\n",
       "      <th>Line</th>\n",
       "      <th>Sex</th>\n",
       "      <th>Replicate</th>\n",
       "      <th>Drug</th>\n",
       "      <th>Number</th>\n",
       "      <th>Survival</th>\n",
       "    </tr>\n",
       "  </thead>\n",
       "  <tbody>\n",
       "    <tr>\n",
       "      <th>0</th>\n",
       "      <td>0</td>\n",
       "      <td>229</td>\n",
       "      <td>Female</td>\n",
       "      <td>1</td>\n",
       "      <td>Trifluroperazine</td>\n",
       "      <td>1</td>\n",
       "      <td>96</td>\n",
       "    </tr>\n",
       "    <tr>\n",
       "      <th>1</th>\n",
       "      <td>0</td>\n",
       "      <td>229</td>\n",
       "      <td>Female</td>\n",
       "      <td>1</td>\n",
       "      <td>Trifluroperazine</td>\n",
       "      <td>10</td>\n",
       "      <td>96</td>\n",
       "    </tr>\n",
       "    <tr>\n",
       "      <th>2</th>\n",
       "      <td>0</td>\n",
       "      <td>229</td>\n",
       "      <td>Female</td>\n",
       "      <td>1</td>\n",
       "      <td>Trifluroperazine</td>\n",
       "      <td>11</td>\n",
       "      <td>96</td>\n",
       "    </tr>\n",
       "    <tr>\n",
       "      <th>3</th>\n",
       "      <td>0</td>\n",
       "      <td>229</td>\n",
       "      <td>Female</td>\n",
       "      <td>1</td>\n",
       "      <td>Trifluroperazine</td>\n",
       "      <td>12</td>\n",
       "      <td>96</td>\n",
       "    </tr>\n",
       "    <tr>\n",
       "      <th>4</th>\n",
       "      <td>0</td>\n",
       "      <td>229</td>\n",
       "      <td>Female</td>\n",
       "      <td>1</td>\n",
       "      <td>Trifluroperazine</td>\n",
       "      <td>13</td>\n",
       "      <td>96</td>\n",
       "    </tr>\n",
       "  </tbody>\n",
       "</table>\n",
       "</div>"
      ],
      "text/plain": [
       "  Concentration  Line     Sex  Replicate              Drug  Number  Survival\n",
       "0             0   229  Female          1  Trifluroperazine       1        96\n",
       "1             0   229  Female          1  Trifluroperazine      10        96\n",
       "2             0   229  Female          1  Trifluroperazine      11        96\n",
       "3             0   229  Female          1  Trifluroperazine      12        96\n",
       "4             0   229  Female          1  Trifluroperazine      13        96"
      ]
     },
     "execution_count": 4,
     "metadata": {},
     "output_type": "execute_result"
    }
   ],
   "source": [
    "df = df.drop(['SampleID','Fly'],axis=1)\n",
    "df1 = df.pop('Survival') # remove column diagnosis and store it in df1\n",
    "df['Survival'] = df1 # add df1 to df as a 'new' column\n",
    "df.head()"
   ]
  },
  {
   "cell_type": "code",
   "execution_count": 5,
   "metadata": {},
   "outputs": [],
   "source": [
    "# select features and target:\n",
    "df = np.array(df)\n",
    "\n",
    "# features:\n",
    "X = df[:,:-1]\n",
    "l,n = X.shape\n",
    "#print(l,n)\n",
    "\n",
    "# target:\n",
    "y = df[:,-1].astype(float)\n",
    "# convert 1,0 to 1,-1:\n",
    "#y = 2*y - 1"
   ]
  },
  {
   "cell_type": "markdown",
   "metadata": {},
   "source": [
    "### Clean data"
   ]
  },
  {
   "cell_type": "code",
   "execution_count": 6,
   "metadata": {},
   "outputs": [],
   "source": [
    "from sklearn.preprocessing import OneHotEncoder\n",
    "onehot_encoder = OneHotEncoder(sparse=False,categories='auto')\n",
    "\n",
    "# Concentration\n",
    "x0 = X[:,0]\n",
    "#print(np.unique(x0))\n",
    "x0[np.where(x0=='12_5')] = 12.5\n",
    "#print(np.unique(x0))\n",
    "x0 = x0.astype(float)\n",
    "#print(np.unique(x0))\n",
    "\n",
    "# line = X[:,1] = {229,703,900} --> 3\n",
    "x1 = onehot_encoder.fit_transform(X[:,1].reshape(-1,1))\n",
    "\n",
    "# sex = X[:,2] = {Female,Male} --> 2\n",
    "x2 = onehot_encoder.fit_transform(X[:,2].reshape(-1,1))\n",
    "\n",
    "# Replicate\n",
    "x3 = X[:,3]\n",
    "#print(np.unique(x3))\n",
    "x3 = x3.astype(float)\n",
    "#print(np.unique(x3))\n",
    "\n",
    "# Drug = X[:,4] = {Trifluroperazine,Cdcl2} --> 2\n",
    "x4 = onehot_encoder.fit_transform(X[:,4].reshape(-1,1))\n",
    "\n",
    "# Number\n",
    "x5 = X[:,5]\n",
    "#print(np.unique(x5))\n",
    "x5 = x5.astype(float)\n",
    "#print(np.unique(x5))"
   ]
  },
  {
   "cell_type": "code",
   "execution_count": 7,
   "metadata": {},
   "outputs": [
    {
     "data": {
      "text/plain": [
       "(3240, 9)"
      ]
     },
     "execution_count": 7,
     "metadata": {},
     "output_type": "execute_result"
    }
   ],
   "source": [
    "# Combine every variables\n",
    "Xnew = np.hstack([x0[:,np.newaxis],x1])\n",
    "Xnew = np.hstack([Xnew,x2])\n",
    "Xnew = np.hstack([Xnew,x3[:,np.newaxis]])\n",
    "Xnew = np.hstack([Xnew,x4])\n",
    "#Xnew = np.hstack([Xnew,x5[:,np.newaxis]])\n",
    "\n",
    "Xnew.shape"
   ]
  },
  {
   "cell_type": "code",
   "execution_count": 8,
   "metadata": {},
   "outputs": [
    {
     "data": {
      "text/plain": [
       "(3240,)"
      ]
     },
     "execution_count": 8,
     "metadata": {},
     "output_type": "execute_result"
    }
   ],
   "source": [
    "# convert Servival to -1 if < 72, 1 if =>72:\n",
    "ynew = np.ones(l)\n",
    "ynew[y < 72.] = -1.\n",
    "ynew.shape"
   ]
  },
  {
   "cell_type": "code",
   "execution_count": 9,
   "metadata": {},
   "outputs": [],
   "source": [
    "X = Xnew\n",
    "y = ynew"
   ]
  },
  {
   "cell_type": "markdown",
   "metadata": {},
   "source": [
    "### Shuffle data"
   ]
  },
  {
   "cell_type": "code",
   "execution_count": 10,
   "metadata": {},
   "outputs": [],
   "source": [
    "from sklearn.utils import shuffle\n",
    "X, y = shuffle(X, y)"
   ]
  },
  {
   "cell_type": "code",
   "execution_count": 11,
   "metadata": {},
   "outputs": [],
   "source": [
    "#from sklearn.preprocessing import StandardScaler\n",
    "#X = StandardScaler().fit_transform(X)\n",
    "\n",
    "from sklearn.preprocessing import MinMaxScaler\n",
    "#X = MinMaxScaler().fit_transform(X)"
   ]
  },
  {
   "cell_type": "markdown",
   "metadata": {},
   "source": [
    "### Prediction"
   ]
  },
  {
   "cell_type": "code",
   "execution_count": 12,
   "metadata": {},
   "outputs": [],
   "source": [
    "from sklearn.linear_model import LogisticRegression\n",
    "from sklearn.naive_bayes import GaussianNB\n",
    "from sklearn.tree import DecisionTreeClassifier\n",
    "from sklearn.ensemble import RandomForestClassifier\n",
    "\n",
    "def ML_inference(X_train,y_train,X_test,y_test,method='expectation_reflection'):\n",
    "    if method == 'expectation_reflection':\n",
    "        h0,w = ER.fit(X_train,y_train,niter_max=20,regu=0.001)\n",
    "        y_pred = ER.predict(X_test,h0,w)\n",
    "        accuracy = accuracy_score(y_test,y_pred)\n",
    "        \n",
    "    else:\n",
    "        if method == 'logistic_regression':\n",
    "            model = LogisticRegression(solver='liblinear')\n",
    "\n",
    "        if method == 'naive_bayes': \n",
    "            model = GaussianNB()\n",
    "\n",
    "        if method == 'random_forest':\n",
    "            model = RandomForestClassifier(criterion = \"gini\", random_state = 1,\n",
    "                           max_depth=3, min_samples_leaf=5,n_estimators=100)        \n",
    "        if method == 'decision_tree':\n",
    "            model = DecisionTreeClassifier()  \n",
    "\n",
    "        model.fit(X_train, y_train)\n",
    "        y_pred = model.predict(X_test)        \n",
    "        accuracy = accuracy_score(y_test,y_pred)\n",
    "    return accuracy"
   ]
  },
  {
   "cell_type": "code",
   "execution_count": 13,
   "metadata": {},
   "outputs": [],
   "source": [
    "list_methods=['expectation_reflection','naive_bayes','logistic_regression','decision_tree','random_forest']"
   ]
  },
  {
   "cell_type": "code",
   "execution_count": 14,
   "metadata": {},
   "outputs": [],
   "source": [
    "def compare_ML_inference(X,y,train_size):\n",
    "    npred = 500\n",
    "    accuracy = np.zeros((len(list_methods),npred))\n",
    "    for ipred in range(npred):\n",
    "        X, y = shuffle(X, y)\n",
    "        X_train0,X_test,y_train0,y_test = train_test_split(X,y,test_size=0.2,random_state = ipred)\n",
    "\n",
    "        idx_train = np.random.choice(len(y_train0),size=int(train_size*len(y_train0)),replace=False)\n",
    "        X_train,y_train = X_train0[idx_train],y_train0[idx_train]\n",
    "\n",
    "        X_train = MinMaxScaler().fit_transform(X_train)\n",
    "        X_test = MinMaxScaler().fit_transform(X_test)\n",
    "        for i,method in enumerate(list_methods):\n",
    "            accuracy[i,ipred] = ML_inference(X_train,y_train,X_test,y_test,method)\n",
    "            #print('% 20s :'%method,accuracy)            \n",
    "        #print(y_train.shape[0],y_test.shape[0])\n",
    "\n",
    "    return accuracy.mean(axis=1),accuracy.std(axis=1)"
   ]
  },
  {
   "cell_type": "code",
   "execution_count": 15,
   "metadata": {},
   "outputs": [
    {
     "name": "stdout",
     "output_type": "stream",
     "text": [
      "(1.0, array([0.93951852, 0.8367284 , 0.9395679 , 0.94065741, 0.9395679 ]))\n",
      "(0.8, array([0.93943827, 0.83762963, 0.93952469, 0.94036728, 0.93957407]))\n",
      "(0.6, array([0.93864506, 0.83742284, 0.93872531, 0.93987963, 0.93911111]))\n",
      "(0.4, array([0.93813272, 0.84118827, 0.93794753, 0.93848148, 0.93874074]))\n",
      "(0.2, array([0.93549074, 0.84727778, 0.93340123, 0.93125   , 0.93904938]))\n"
     ]
    }
   ],
   "source": [
    "for train_size in [1.,0.8,0.6,0.4,0.2]:\n",
    "    acc,acc_std = compare_ML_inference(X,y,train_size)\n",
    "    print(train_size,acc)"
   ]
  }
 ],
 "metadata": {
  "kernelspec": {
   "display_name": "Python 2",
   "language": "python",
   "name": "python2"
  },
  "language_info": {
   "codemirror_mode": {
    "name": "ipython",
    "version": 2
   },
   "file_extension": ".py",
   "mimetype": "text/x-python",
   "name": "python",
   "nbconvert_exporter": "python",
   "pygments_lexer": "ipython2",
   "version": "2.7.16"
  }
 },
 "nbformat": 4,
 "nbformat_minor": 2
}
